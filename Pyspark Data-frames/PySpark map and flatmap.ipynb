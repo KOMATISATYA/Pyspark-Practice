{
 "cells": [
  {
   "cell_type": "code",
   "execution_count": 0,
   "metadata": {
    "application/vnd.databricks.v1+cell": {
     "cellMetadata": {
      "byteLimit": 2048000,
      "rowLimit": 10000
     },
     "inputWidgets": {},
     "nuid": "83a4daed-e626-4f17-9689-d206c4c387b9",
     "showTitle": false,
     "title": ""
    }
   },
   "outputs": [],
   "source": [
    "import os\n",
    "import sys\n",
    "os.environ[\"PYSPARK_PYTHON\"] = sys.executable\n",
    "os.environ[\"PYSPARK_DRIVER_PYTHON\"] = sys.executable"
   ]
  },
  {
   "cell_type": "code",
   "execution_count": 0,
   "metadata": {
    "application/vnd.databricks.v1+cell": {
     "cellMetadata": {
      "byteLimit": 2048000,
      "rowLimit": 10000
     },
     "inputWidgets": {},
     "nuid": "c3b47a43-4ea7-4c43-a06f-24dd9dbcbf3b",
     "showTitle": false,
     "title": ""
    }
   },
   "outputs": [],
   "source": [
    "from pyspark.sql import SparkSession\n",
    "spark = SparkSession.builder\\\n",
    "        .appName(\"Map and FlatMap\")\\\n",
    "        .getOrCreate()"
   ]
  },
  {
   "cell_type": "markdown",
   "metadata": {
    "application/vnd.databricks.v1+cell": {
     "cellMetadata": {},
     "inputWidgets": {},
     "nuid": "90507af8-acba-431f-8df3-ec0df71131e7",
     "showTitle": false,
     "title": ""
    }
   },
   "source": [
    "#### Operations over RDD"
   ]
  },
  {
   "cell_type": "markdown",
   "metadata": {
    "application/vnd.databricks.v1+cell": {
     "cellMetadata": {},
     "inputWidgets": {},
     "nuid": "f3310c44-d945-4471-bf75-c946f40c82dd",
     "showTitle": false,
     "title": ""
    }
   },
   "source": [
    "##### Create RDD"
   ]
  },
  {
   "cell_type": "code",
   "execution_count": 0,
   "metadata": {
    "application/vnd.databricks.v1+cell": {
     "cellMetadata": {
      "byteLimit": 2048000,
      "rowLimit": 10000
     },
     "inputWidgets": {},
     "nuid": "b184c474-52e9-449a-a85b-aea933806ea4",
     "showTitle": false,
     "title": ""
    }
   },
   "outputs": [],
   "source": [
    "data = [\"Project Gutenberg’s\",\"Alice’s Adventures\",\n",
    "\"in Wonderland\",\"Project Gutenberg’s Adventures\",\n",
    "\"in Wonderland\",\"Project Gutenberg’s\"]"
   ]
  },
  {
   "cell_type": "code",
   "execution_count": 0,
   "metadata": {
    "application/vnd.databricks.v1+cell": {
     "cellMetadata": {
      "byteLimit": 2048000,
      "rowLimit": 10000
     },
     "inputWidgets": {},
     "nuid": "cb03ee4e-4464-4977-a15e-5953decbd3f1",
     "showTitle": false,
     "title": ""
    }
   },
   "outputs": [],
   "source": [
    "rdd=spark.sparkContext.parallelize(data)"
   ]
  },
  {
   "cell_type": "markdown",
   "metadata": {
    "application/vnd.databricks.v1+cell": {
     "cellMetadata": {},
     "inputWidgets": {},
     "nuid": "ad2548fd-ab3f-4149-95a7-8354e8e29a0d",
     "showTitle": false,
     "title": ""
    }
   },
   "source": [
    "#### Map()"
   ]
  },
  {
   "cell_type": "code",
   "execution_count": 0,
   "metadata": {
    "application/vnd.databricks.v1+cell": {
     "cellMetadata": {
      "byteLimit": 2048000,
      "rowLimit": 10000
     },
     "inputWidgets": {},
     "nuid": "0753c7e8-9b0e-4ea9-8ab3-f31d76b16232",
     "showTitle": false,
     "title": ""
    }
   },
   "outputs": [
    {
     "output_type": "stream",
     "name": "stdout",
     "output_type": "stream",
     "text": [
      "('Project Gutenberg’s', 'PROJECT GUTENBERG’S')\n('Alice’s Adventures', 'ALICE’S ADVENTURES')\n('in Wonderland', 'IN WONDERLAND')\n('Project Gutenberg’s Adventures', 'PROJECT GUTENBERG’S ADVENTURES')\n('in Wonderland', 'IN WONDERLAND')\n('Project Gutenberg’s', 'PROJECT GUTENBERG’S')\n"
     ]
    }
   ],
   "source": [
    "rdd2=rdd.map(lambda x : (x,x.upper()))\n",
    "for element in rdd2.collect():\n",
    "    print(element)    "
   ]
  },
  {
   "cell_type": "code",
   "execution_count": 0,
   "metadata": {
    "application/vnd.databricks.v1+cell": {
     "cellMetadata": {
      "byteLimit": 2048000,
      "rowLimit": 10000
     },
     "inputWidgets": {},
     "nuid": "bf26c91a-4df9-4d36-b2e5-088c5fb14718",
     "showTitle": false,
     "title": ""
    }
   },
   "outputs": [
    {
     "output_type": "stream",
     "name": "stdout",
     "output_type": "stream",
     "text": [
      "PROJECT GUTENBERG’S\nALICE’S ADVENTURES\nIN WONDERLAND\nPROJECT GUTENBERG’S ADVENTURES\nIN WONDERLAND\nPROJECT GUTENBERG’S\n"
     ]
    }
   ],
   "source": [
    "rdd2=rdd.map(lambda x:x.upper())\n",
    "for element in rdd2.collect():\n",
    "    print(element)"
   ]
  },
  {
   "cell_type": "markdown",
   "metadata": {
    "application/vnd.databricks.v1+cell": {
     "cellMetadata": {},
     "inputWidgets": {},
     "nuid": "43d9f3ba-4ed0-4d15-bac6-cb773d036596",
     "showTitle": false,
     "title": ""
    }
   },
   "source": [
    "#### flatmap()"
   ]
  },
  {
   "cell_type": "code",
   "execution_count": 0,
   "metadata": {
    "application/vnd.databricks.v1+cell": {
     "cellMetadata": {
      "byteLimit": 2048000,
      "rowLimit": 10000
     },
     "inputWidgets": {},
     "nuid": "4728672c-bbfa-4ca9-b6dd-3890780acc8a",
     "showTitle": false,
     "title": ""
    }
   },
   "outputs": [
    {
     "output_type": "stream",
     "name": "stdout",
     "output_type": "stream",
     "text": [
      "Project\nGutenberg’s\nAlice’s\nAdventures\nin\nWonderland\nProject\nGutenberg’s\nAdventures\nin\nWonderland\nProject\nGutenberg’s\n"
     ]
    }
   ],
   "source": [
    "rdd2=rdd.flatMap(lambda x:x.split(\" \"))\n",
    "for element in rdd2.collect():\n",
    "    print(element)"
   ]
  },
  {
   "cell_type": "markdown",
   "metadata": {
    "application/vnd.databricks.v1+cell": {
     "cellMetadata": {},
     "inputWidgets": {},
     "nuid": "a387a1cc-0a7d-401d-bd21-f0123ba2d186",
     "showTitle": false,
     "title": ""
    }
   },
   "source": [
    "#### Operations over DataFrame"
   ]
  },
  {
   "cell_type": "code",
   "execution_count": 0,
   "metadata": {
    "application/vnd.databricks.v1+cell": {
     "cellMetadata": {
      "byteLimit": 2048000,
      "rowLimit": 10000
     },
     "inputWidgets": {},
     "nuid": "55d4c1f4-e859-409b-89bd-c9024b6eaab8",
     "showTitle": false,
     "title": ""
    }
   },
   "outputs": [
    {
     "output_type": "stream",
     "name": "stdout",
     "output_type": "stream",
     "text": [
      "root\n |-- First_name: string (nullable = true)\n |-- Last_name: string (nullable = true)\n |-- gender: string (nullable = true)\n |-- Salary: long (nullable = true)\n\n"
     ]
    }
   ],
   "source": [
    "data = [\n",
    "    ('James', 'Smith', 'M', 30),\n",
    "    ('Anna', 'Jones', 'F', 41),\n",
    "    ('Robert', 'Williams', 'M', 60)\n",
    "]\n",
    "\n",
    "columns = [\"First_name\", \"Last_name\", \"gender\", \"Salary\"]\n",
    "\n",
    "df = spark.createDataFrame(data, columns)\n",
    "df.printSchema()"
   ]
  },
  {
   "cell_type": "markdown",
   "metadata": {
    "application/vnd.databricks.v1+cell": {
     "cellMetadata": {},
     "inputWidgets": {},
     "nuid": "686ac5ac-6293-4948-8203-8ed5db030f03",
     "showTitle": false,
     "title": ""
    }
   },
   "source": [
    "##### map()"
   ]
  },
  {
   "cell_type": "code",
   "execution_count": 0,
   "metadata": {
    "application/vnd.databricks.v1+cell": {
     "cellMetadata": {
      "byteLimit": 2048000,
      "rowLimit": 10000
     },
     "inputWidgets": {},
     "nuid": "6e5189c2-62f9-403a-81ba-e13c13c5069f",
     "showTitle": false,
     "title": ""
    }
   },
   "outputs": [
    {
     "output_type": "stream",
     "name": "stdout",
     "output_type": "stream",
     "text": [
      "+---------------+------+------+\n|full_name      |gender|salary|\n+---------------+------+------+\n|James Smith    |M     |60    |\n|Anna Jones     |F     |82    |\n|Robert Williams|M     |120   |\n+---------------+------+------+\n\n"
     ]
    }
   ],
   "source": [
    "rdd2=df.rdd.map(lambda x:\n",
    "    (x[0]+' '+x[1],x[2],x[3]*2))\n",
    "df2=rdd2.toDF([\"full_name\",\"gender\",\"salary\"])\n",
    "df2.show(truncate=False)"
   ]
  },
  {
   "cell_type": "code",
   "execution_count": 0,
   "metadata": {
    "application/vnd.databricks.v1+cell": {
     "cellMetadata": {
      "byteLimit": 2048000,
      "rowLimit": 10000
     },
     "inputWidgets": {},
     "nuid": "696bbf1c-fa60-45fb-816e-67d2ea274cbc",
     "showTitle": false,
     "title": ""
    }
   },
   "outputs": [],
   "source": [
    "rdd3=df.rdd2"
   ]
  },
  {
   "cell_type": "code",
   "execution_count": 0,
   "metadata": {
    "application/vnd.databricks.v1+cell": {
     "cellMetadata": {
      "byteLimit": 2048000,
      "rowLimit": 10000
     },
     "inputWidgets": {},
     "nuid": "9322683f-b9cf-433a-b694-9662af379c98",
     "showTitle": false,
     "title": ""
    }
   },
   "outputs": [
    {
     "output_type": "stream",
     "name": "stdout",
     "output_type": "stream",
     "text": [
      "James\nAnna\nRobert\n"
     ]
    }
   ],
   "source": [
    "for x in rdd3.collect():\n",
    "    print(x[\"First_name\"])"
   ]
  },
  {
   "cell_type": "code",
   "execution_count": 0,
   "metadata": {
    "application/vnd.databricks.v1+cell": {
     "cellMetadata": {
      "byteLimit": 2048000,
      "rowLimit": 10000
     },
     "inputWidgets": {},
     "nuid": "2a513618-9c64-497f-81f5-5d3a7135b128",
     "showTitle": false,
     "title": ""
    }
   },
   "outputs": [],
   "source": [
    "def funct(x):\n",
    "    first_name=x.First_name\n",
    "    last_name=x.Last_name\n",
    "    name=first_name+last_name\n",
    "    gender=x.gender.lower()\n",
    "    sal=x.Salary * 2\n",
    "    return (name,gender,sal)"
   ]
  },
  {
   "cell_type": "code",
   "execution_count": 0,
   "metadata": {
    "application/vnd.databricks.v1+cell": {
     "cellMetadata": {
      "byteLimit": 2048000,
      "rowLimit": 10000
     },
     "inputWidgets": {},
     "nuid": "dc335985-8e3b-47e7-868f-150885a9d89a",
     "showTitle": false,
     "title": ""
    }
   },
   "outputs": [],
   "source": [
    "rdd2=df.rdd.map(lambda x : funct(x))"
   ]
  },
  {
   "cell_type": "code",
   "execution_count": 0,
   "metadata": {
    "application/vnd.databricks.v1+cell": {
     "cellMetadata": {
      "byteLimit": 2048000,
      "rowLimit": 10000
     },
     "inputWidgets": {},
     "nuid": "d0f6087c-80c2-4672-920c-f12c1e55fbff",
     "showTitle": false,
     "title": ""
    }
   },
   "outputs": [
    {
     "output_type": "stream",
     "name": "stdout",
     "output_type": "stream",
     "text": [
      "+--------------+------+---+\n|     full_name|gender|sal|\n+--------------+------+---+\n|    JamesSmith|     m| 60|\n|     AnnaJones|     f| 82|\n|RobertWilliams|     m|120|\n+--------------+------+---+\n\n"
     ]
    }
   ],
   "source": [
    "df2=rdd2.toDF([\"full_name\",\"gender\",\"sal\"])\n",
    "df2.show()"
   ]
  },
  {
   "cell_type": "code",
   "execution_count": 0,
   "metadata": {
    "application/vnd.databricks.v1+cell": {
     "cellMetadata": {
      "byteLimit": 2048000,
      "rowLimit": 10000
     },
     "inputWidgets": {},
     "nuid": "7c13a32c-613c-45fb-bbe7-b47fbfe74b45",
     "showTitle": false,
     "title": ""
    }
   },
   "outputs": [
    {
     "output_type": "stream",
     "name": "stdout",
     "output_type": "stream",
     "text": [
      "Out[17]: [('JamesSmith', 'm', 60), ('AnnaJones', 'f', 82), ('RobertWilliams', 'm', 120)]"
     ]
    }
   ],
   "source": [
    "rdd2.collect()"
   ]
  },
  {
   "cell_type": "markdown",
   "metadata": {
    "application/vnd.databricks.v1+cell": {
     "cellMetadata": {},
     "inputWidgets": {},
     "nuid": "9af49af4-25a6-463c-85e2-0da15303424c",
     "showTitle": false,
     "title": ""
    }
   },
   "source": [
    "##### flatmap()"
   ]
  },
  {
   "cell_type": "code",
   "execution_count": 0,
   "metadata": {
    "application/vnd.databricks.v1+cell": {
     "cellMetadata": {
      "byteLimit": 2048000,
      "rowLimit": 10000
     },
     "inputWidgets": {},
     "nuid": "d61dffb0-d84a-4c40-b8b6-c675ae83dd47",
     "showTitle": false,
     "title": ""
    }
   },
   "outputs": [],
   "source": [
    "arrayData = [\n",
    "        ('James',['Java','Scala'],{'hair':'black','eye':'brown'}),\n",
    "        ('Michael',['Spark','Java',None],{'hair':'brown','eye':None}),\n",
    "        ('Robert',['CSharp',''],{'hair':'red','eye':''}),\n",
    "        ('Washington',None,None),\n",
    "        ('Jefferson',['1','2'],{})]\n",
    "df = spark.createDataFrame(data=arrayData, schema = ['name','knownLanguages','properties'])"
   ]
  },
  {
   "cell_type": "code",
   "execution_count": 0,
   "metadata": {
    "application/vnd.databricks.v1+cell": {
     "cellMetadata": {
      "byteLimit": 2048000,
      "rowLimit": 10000
     },
     "inputWidgets": {},
     "nuid": "228cf12a-437d-4851-884a-7aa20b3ea94d",
     "showTitle": false,
     "title": ""
    }
   },
   "outputs": [
    {
     "output_type": "stream",
     "name": "stdout",
     "output_type": "stream",
     "text": [
      "root\n |-- name: string (nullable = true)\n |-- knownLanguages: array (nullable = true)\n |    |-- element: string (containsNull = true)\n |-- properties: map (nullable = true)\n |    |-- key: string\n |    |-- value: string (valueContainsNull = true)\n\n"
     ]
    }
   ],
   "source": [
    "from pyspark.sql.functions import explode\n",
    "df2=df.select(df.name,explode(df.properties))\n",
    "df.printSchema()"
   ]
  },
  {
   "cell_type": "code",
   "execution_count": 0,
   "metadata": {
    "application/vnd.databricks.v1+cell": {
     "cellMetadata": {
      "byteLimit": 2048000,
      "rowLimit": 10000
     },
     "inputWidgets": {},
     "nuid": "209b2a5b-1fb6-40bf-96e9-c03478e83010",
     "showTitle": false,
     "title": ""
    }
   },
   "outputs": [
    {
     "output_type": "stream",
     "name": "stdout",
     "output_type": "stream",
     "text": [
      "+----------+-------------------+-----------------------------+\n|name      |knownLanguages     |properties                   |\n+----------+-------------------+-----------------------------+\n|James     |[Java, Scala]      |{eye -> brown, hair -> black}|\n|Michael   |[Spark, Java, null]|{eye -> null, hair -> brown} |\n|Robert    |[CSharp, ]         |{eye -> , hair -> red}       |\n|Washington|null               |null                         |\n|Jefferson |[1, 2]             |{}                           |\n+----------+-------------------+-----------------------------+\n\n+-------+----+-----+\n|   name| key|value|\n+-------+----+-----+\n|  James| eye|brown|\n|  James|hair|black|\n|Michael| eye| null|\n|Michael|hair|brown|\n| Robert| eye|     |\n| Robert|hair|  red|\n+-------+----+-----+\n\n"
     ]
    }
   ],
   "source": [
    "df.show(truncate=False)\n",
    "df2.show()"
   ]
  },
  {
   "cell_type": "code",
   "execution_count": 0,
   "metadata": {
    "application/vnd.databricks.v1+cell": {
     "cellMetadata": {},
     "inputWidgets": {},
     "nuid": "ff32cf01-6a7f-41c5-a637-ac1f04bf2a86",
     "showTitle": false,
     "title": ""
    }
   },
   "outputs": [],
   "source": []
  }
 ],
 "metadata": {
  "application/vnd.databricks.v1+notebook": {
   "dashboards": [],
   "environmentMetadata": null,
   "language": "python",
   "notebookMetadata": {
    "pythonIndentUnit": 4
   },
   "notebookName": "PySpark map and flatmap",
   "widgets": {}
  }
 },
 "nbformat": 4,
 "nbformat_minor": 0
}
