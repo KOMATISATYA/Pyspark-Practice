{
 "cells": [
  {
   "cell_type": "code",
   "execution_count": 0,
   "metadata": {
    "application/vnd.databricks.v1+cell": {
     "cellMetadata": {
      "byteLimit": 2048000,
      "rowLimit": 10000
     },
     "inputWidgets": {},
     "nuid": "ac77011e-1a83-417b-8236-9c43c28d56b2",
     "showTitle": false,
     "title": ""
    }
   },
   "outputs": [],
   "source": [
    "import os\n",
    "import sys\n",
    "os.environ[\"PYSPARK_PYTHON\"] = sys.executable\n",
    "os.environ[\"PYSPARK_DRIVER_PYTHON\"] = sys.executable"
   ]
  },
  {
   "cell_type": "code",
   "execution_count": 0,
   "metadata": {
    "application/vnd.databricks.v1+cell": {
     "cellMetadata": {
      "byteLimit": 2048000,
      "rowLimit": 10000
     },
     "inputWidgets": {},
     "nuid": "824d8cb3-5a8f-4910-8b91-afee1686b2f8",
     "showTitle": false,
     "title": ""
    }
   },
   "outputs": [
    {
     "output_type": "stream",
     "name": "stdout",
     "output_type": "stream",
     "text": [
      "Out[2]: '3.3.2'"
     ]
    }
   ],
   "source": [
    "from pyspark.sql import SparkSession\n",
    "spark = SparkSession.builder \\\n",
    "        .appName(\"Sample\") \\\n",
    "        .getOrCreate()\n",
    "\n",
    "spark.version"
   ]
  },
  {
   "cell_type": "markdown",
   "metadata": {
    "application/vnd.databricks.v1+cell": {
     "cellMetadata": {},
     "inputWidgets": {},
     "nuid": "f73885a5-36f8-4bc4-ab4d-5b54cff719e1",
     "showTitle": false,
     "title": ""
    }
   },
   "source": [
    "#### Sample"
   ]
  },
  {
   "cell_type": "code",
   "execution_count": 0,
   "metadata": {
    "application/vnd.databricks.v1+cell": {
     "cellMetadata": {
      "byteLimit": 2048000,
      "rowLimit": 10000
     },
     "inputWidgets": {},
     "nuid": "524804ac-9cf3-46de-b73b-fdbf331caf9e",
     "showTitle": false,
     "title": ""
    }
   },
   "outputs": [
    {
     "output_type": "stream",
     "name": "stdout",
     "output_type": "stream",
     "text": [
      "Out[4]: [Row(id=100),\n Row(id=101),\n Row(id=102),\n Row(id=103),\n Row(id=104),\n Row(id=105),\n Row(id=106),\n Row(id=107),\n Row(id=108),\n Row(id=109),\n Row(id=110),\n Row(id=111),\n Row(id=112),\n Row(id=113),\n Row(id=114),\n Row(id=115),\n Row(id=116),\n Row(id=117),\n Row(id=118),\n Row(id=119),\n Row(id=120),\n Row(id=121),\n Row(id=122),\n Row(id=123),\n Row(id=124),\n Row(id=125),\n Row(id=126),\n Row(id=127),\n Row(id=128),\n Row(id=129),\n Row(id=130),\n Row(id=131),\n Row(id=132),\n Row(id=133),\n Row(id=134),\n Row(id=135),\n Row(id=136),\n Row(id=137),\n Row(id=138),\n Row(id=139),\n Row(id=140),\n Row(id=141),\n Row(id=142),\n Row(id=143),\n Row(id=144),\n Row(id=145),\n Row(id=146),\n Row(id=147),\n Row(id=148),\n Row(id=149),\n Row(id=150),\n Row(id=151),\n Row(id=152),\n Row(id=153),\n Row(id=154),\n Row(id=155),\n Row(id=156),\n Row(id=157),\n Row(id=158),\n Row(id=159),\n Row(id=160),\n Row(id=161),\n Row(id=162),\n Row(id=163),\n Row(id=164),\n Row(id=165),\n Row(id=166),\n Row(id=167),\n Row(id=168),\n Row(id=169),\n Row(id=170),\n Row(id=171),\n Row(id=172),\n Row(id=173),\n Row(id=174),\n Row(id=175),\n Row(id=176),\n Row(id=177),\n Row(id=178),\n Row(id=179),\n Row(id=180),\n Row(id=181),\n Row(id=182),\n Row(id=183),\n Row(id=184),\n Row(id=185),\n Row(id=186),\n Row(id=187),\n Row(id=188),\n Row(id=189),\n Row(id=190),\n Row(id=191),\n Row(id=192),\n Row(id=193),\n Row(id=194),\n Row(id=195),\n Row(id=196),\n Row(id=197),\n Row(id=198),\n Row(id=199),\n Row(id=200),\n Row(id=201),\n Row(id=202),\n Row(id=203),\n Row(id=204),\n Row(id=205),\n Row(id=206),\n Row(id=207),\n Row(id=208),\n Row(id=209),\n Row(id=210),\n Row(id=211),\n Row(id=212),\n Row(id=213),\n Row(id=214),\n Row(id=215),\n Row(id=216),\n Row(id=217),\n Row(id=218),\n Row(id=219),\n Row(id=220),\n Row(id=221),\n Row(id=222),\n Row(id=223),\n Row(id=224),\n Row(id=225),\n Row(id=226),\n Row(id=227),\n Row(id=228),\n Row(id=229),\n Row(id=230),\n Row(id=231),\n Row(id=232),\n Row(id=233),\n Row(id=234),\n Row(id=235),\n Row(id=236),\n Row(id=237),\n Row(id=238),\n Row(id=239),\n Row(id=240),\n Row(id=241),\n Row(id=242),\n Row(id=243),\n Row(id=244),\n Row(id=245),\n Row(id=246),\n Row(id=247),\n Row(id=248),\n Row(id=249),\n Row(id=250),\n Row(id=251),\n Row(id=252),\n Row(id=253),\n Row(id=254),\n Row(id=255),\n Row(id=256),\n Row(id=257),\n Row(id=258),\n Row(id=259),\n Row(id=260),\n Row(id=261),\n Row(id=262),\n Row(id=263),\n Row(id=264),\n Row(id=265),\n Row(id=266),\n Row(id=267),\n Row(id=268),\n Row(id=269),\n Row(id=270),\n Row(id=271),\n Row(id=272),\n Row(id=273),\n Row(id=274),\n Row(id=275),\n Row(id=276),\n Row(id=277),\n Row(id=278),\n Row(id=279),\n Row(id=280),\n Row(id=281),\n Row(id=282),\n Row(id=283),\n Row(id=284),\n Row(id=285),\n Row(id=286),\n Row(id=287),\n Row(id=288),\n Row(id=289),\n Row(id=290),\n Row(id=291),\n Row(id=292),\n Row(id=293),\n Row(id=294),\n Row(id=295),\n Row(id=296),\n Row(id=297),\n Row(id=298),\n Row(id=299)]"
     ]
    }
   ],
   "source": [
    "df=spark.range(100,300)\n",
    "df.collect()"
   ]
  },
  {
   "cell_type": "code",
   "execution_count": 0,
   "metadata": {
    "application/vnd.databricks.v1+cell": {
     "cellMetadata": {
      "byteLimit": 2048000,
      "rowLimit": 10000
     },
     "inputWidgets": {},
     "nuid": "f0aac23e-5da6-4eac-bdc7-5cd4cd5c9bde",
     "showTitle": false,
     "title": ""
    }
   },
   "outputs": [
    {
     "output_type": "stream",
     "name": "stdout",
     "output_type": "stream",
     "text": [
      "+---+\n| id|\n+---+\n|144|\n|160|\n|164|\n|165|\n|166|\n|176|\n|179|\n|183|\n|193|\n|199|\n|213|\n|219|\n|234|\n|259|\n|263|\n|268|\n|272|\n|275|\n|287|\n|289|\n+---+\n\n"
     ]
    }
   ],
   "source": [
    "df.sample(0.1,123).show()"
   ]
  },
  {
   "cell_type": "code",
   "execution_count": 0,
   "metadata": {
    "application/vnd.databricks.v1+cell": {
     "cellMetadata": {
      "byteLimit": 2048000,
      "rowLimit": 10000
     },
     "inputWidgets": {},
     "nuid": "7dd55855-ea1a-4f2d-adca-f5e2d961d75f",
     "showTitle": false,
     "title": ""
    }
   },
   "outputs": [
    {
     "output_type": "stream",
     "name": "stdout",
     "output_type": "stream",
     "text": [
      "24\n"
     ]
    }
   ],
   "source": [
    "sampled_df=df.sample(0.1)\n",
    "count=sampled_df.count()\n",
    "print(count)"
   ]
  },
  {
   "cell_type": "markdown",
   "metadata": {
    "application/vnd.databricks.v1+cell": {
     "cellMetadata": {},
     "inputWidgets": {},
     "nuid": "04f4f8cc-d763-4f37-b9c0-e7669cff104b",
     "showTitle": false,
     "title": ""
    }
   },
   "source": [
    "#### With Duplicates"
   ]
  },
  {
   "cell_type": "code",
   "execution_count": 0,
   "metadata": {
    "application/vnd.databricks.v1+cell": {
     "cellMetadata": {
      "byteLimit": 2048000,
      "rowLimit": 10000
     },
     "inputWidgets": {},
     "nuid": "f69460ba-e967-4686-90f8-97fd35b5a2fc",
     "showTitle": false,
     "title": ""
    }
   },
   "outputs": [
    {
     "output_type": "stream",
     "name": "stdout",
     "output_type": "stream",
     "text": [
      "Out[8]: [Row(id=106),\n Row(id=113),\n Row(id=117),\n Row(id=119),\n Row(id=145),\n Row(id=152),\n Row(id=173),\n Row(id=175),\n Row(id=184),\n Row(id=188),\n Row(id=200),\n Row(id=210),\n Row(id=222),\n Row(id=228),\n Row(id=235),\n Row(id=238),\n Row(id=241),\n Row(id=256),\n Row(id=279),\n Row(id=280),\n Row(id=280)]"
     ]
    }
   ],
   "source": [
    "# The first Parameter (withReplacement) is set to True in order to get the Duplicate values\n",
    "df.sample(True, 0.1, 123).collect()"
   ]
  },
  {
   "cell_type": "markdown",
   "metadata": {
    "application/vnd.databricks.v1+cell": {
     "cellMetadata": {},
     "inputWidgets": {},
     "nuid": "9ba94680-49cb-461e-88c8-1f5666d6041a",
     "showTitle": false,
     "title": ""
    }
   },
   "source": [
    "#### Without Duplicates"
   ]
  },
  {
   "cell_type": "code",
   "execution_count": 0,
   "metadata": {
    "application/vnd.databricks.v1+cell": {
     "cellMetadata": {
      "byteLimit": 2048000,
      "rowLimit": 10000
     },
     "inputWidgets": {},
     "nuid": "a8b64fd4-3aca-4a09-bab7-d54cd77c4c5c",
     "showTitle": false,
     "title": ""
    }
   },
   "outputs": [
    {
     "output_type": "stream",
     "name": "stdout",
     "output_type": "stream",
     "text": [
      "Out[9]: [Row(id=144),\n Row(id=160),\n Row(id=164),\n Row(id=165),\n Row(id=166),\n Row(id=176),\n Row(id=179),\n Row(id=183),\n Row(id=193),\n Row(id=199),\n Row(id=213),\n Row(id=219),\n Row(id=234),\n Row(id=259),\n Row(id=263),\n Row(id=268),\n Row(id=272),\n Row(id=275),\n Row(id=287),\n Row(id=289)]"
     ]
    }
   ],
   "source": [
    "# Set the first parameter to False to get only non duplicate values\n",
    "df.sample(False, 0.1, 123).collect()"
   ]
  },
  {
   "cell_type": "markdown",
   "metadata": {
    "application/vnd.databricks.v1+cell": {
     "cellMetadata": {},
     "inputWidgets": {},
     "nuid": "fb2e810c-92c9-41b4-a652-23ab9da7d8d1",
     "showTitle": false,
     "title": ""
    }
   },
   "source": [
    "#### SampleBy()"
   ]
  },
  {
   "cell_type": "code",
   "execution_count": 0,
   "metadata": {
    "application/vnd.databricks.v1+cell": {
     "cellMetadata": {
      "byteLimit": 2048000,
      "rowLimit": 10000
     },
     "inputWidgets": {},
     "nuid": "931ec19f-6041-466d-9bce-1ff23dff83f7",
     "showTitle": false,
     "title": ""
    }
   },
   "outputs": [
    {
     "output_type": "stream",
     "name": "stdout",
     "output_type": "stream",
     "text": [
      "[Row(key=0), Row(key=1), Row(key=1), Row(key=1), Row(key=1), Row(key=0), Row(key=1), Row(key=0), Row(key=1), Row(key=0), Row(key=1), Row(key=0), Row(key=1), Row(key=0), Row(key=0), Row(key=1), Row(key=0), Row(key=0), Row(key=1), Row(key=1), Row(key=1), Row(key=0), Row(key=1), Row(key=1), Row(key=1), Row(key=1), Row(key=0), Row(key=1)]\n"
     ]
    }
   ],
   "source": [
    "df2 = df.select((df.id % 3).alias(\"key\"))\n",
    "print(df2.sampleBy(\"key\", {0 : 0.1, 1:0.2}, 0).collect())"
   ]
  },
  {
   "cell_type": "markdown",
   "metadata": {
    "application/vnd.databricks.v1+cell": {
     "cellMetadata": {},
     "inputWidgets": {},
     "nuid": "ae6dc3e6-79a3-440b-ad5f-f6880465c914",
     "showTitle": false,
     "title": ""
    }
   },
   "source": [
    "#### RDD"
   ]
  },
  {
   "cell_type": "code",
   "execution_count": 0,
   "metadata": {
    "application/vnd.databricks.v1+cell": {
     "cellMetadata": {
      "byteLimit": 2048000,
      "rowLimit": 10000
     },
     "inputWidgets": {},
     "nuid": "d8b94362-2389-4631-a985-af5a996aefb4",
     "showTitle": false,
     "title": ""
    }
   },
   "outputs": [],
   "source": [
    "# Create an RDD\n",
    "rdd = spark.sparkContext.range(100, 200)\n"
   ]
  },
  {
   "cell_type": "markdown",
   "metadata": {
    "application/vnd.databricks.v1+cell": {
     "cellMetadata": {},
     "inputWidgets": {},
     "nuid": "592b82d7-c1ab-43b0-b751-44d6279c6659",
     "showTitle": false,
     "title": ""
    }
   },
   "source": [
    "#### sample"
   ]
  },
  {
   "cell_type": "code",
   "execution_count": 0,
   "metadata": {
    "application/vnd.databricks.v1+cell": {
     "cellMetadata": {
      "byteLimit": 2048000,
      "rowLimit": 10000
     },
     "inputWidgets": {},
     "nuid": "f087ac7e-3a3a-4d33-9a9b-65df37453eed",
     "showTitle": false,
     "title": ""
    }
   },
   "outputs": [
    {
     "output_type": "stream",
     "name": "stdout",
     "output_type": "stream",
     "text": [
      "Out[12]: [100,\n 111,\n 116,\n 118,\n 119,\n 123,\n 123,\n 124,\n 126,\n 126,\n 127,\n 129,\n 135,\n 138,\n 147,\n 149,\n 154,\n 154,\n 155,\n 161,\n 161,\n 166,\n 168,\n 181,\n 181,\n 182,\n 185,\n 197,\n 199]"
     ]
    }
   ],
   "source": [
    "rdd.sample(True, 0.3, 123).collect()"
   ]
  },
  {
   "cell_type": "markdown",
   "metadata": {
    "application/vnd.databricks.v1+cell": {
     "cellMetadata": {},
     "inputWidgets": {},
     "nuid": "c0709c76-0b04-467e-b01f-a78198460fa9",
     "showTitle": false,
     "title": ""
    }
   },
   "source": [
    "#### takeSample()"
   ]
  },
  {
   "cell_type": "code",
   "execution_count": 0,
   "metadata": {
    "application/vnd.databricks.v1+cell": {
     "cellMetadata": {
      "byteLimit": 2048000,
      "rowLimit": 10000
     },
     "inputWidgets": {},
     "nuid": "b0609a3f-2e0c-42bc-ac8d-e33ab45c5d65",
     "showTitle": false,
     "title": ""
    }
   },
   "outputs": [
    {
     "output_type": "stream",
     "name": "stdout",
     "output_type": "stream",
     "text": [
      "[183, 137, 146, 135, 181, 148, 129, 127, 126, 166]\n"
     ]
    }
   ],
   "source": [
    "print(rdd.takeSample(True, 10, 123))"
   ]
  },
  {
   "cell_type": "code",
   "execution_count": 0,
   "metadata": {
    "application/vnd.databricks.v1+cell": {
     "cellMetadata": {},
     "inputWidgets": {},
     "nuid": "1173c2e2-8dd2-4bdf-9585-85f8ecae23c2",
     "showTitle": false,
     "title": ""
    }
   },
   "outputs": [],
   "source": []
  }
 ],
 "metadata": {
  "application/vnd.databricks.v1+notebook": {
   "dashboards": [],
   "environmentMetadata": null,
   "language": "python",
   "notebookMetadata": {
    "pythonIndentUnit": 4
   },
   "notebookName": "PySpark sample and sampleBy",
   "widgets": {}
  }
 },
 "nbformat": 4,
 "nbformat_minor": 0
}
