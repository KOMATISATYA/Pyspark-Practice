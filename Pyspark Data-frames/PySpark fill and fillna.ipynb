{
 "cells": [
  {
   "cell_type": "markdown",
   "metadata": {
    "application/vnd.databricks.v1+cell": {
     "cellMetadata": {},
     "inputWidgets": {},
     "nuid": "919c4d75-e02a-4f48-9902-dbcd202d881d",
     "showTitle": false,
     "title": ""
    }
   },
   "source": [
    "#### System environment variables"
   ]
  },
  {
   "cell_type": "code",
   "execution_count": 0,
   "metadata": {
    "application/vnd.databricks.v1+cell": {
     "cellMetadata": {
      "byteLimit": 2048000,
      "rowLimit": 10000
     },
     "inputWidgets": {},
     "nuid": "a97c426f-4d2b-4ec1-a8f7-52a3de45ba84",
     "showTitle": false,
     "title": ""
    }
   },
   "outputs": [],
   "source": [
    "import os \n",
    "import sys\n",
    "os.environ[\"PYSPARK_PYTHON\"] = sys.executable\n",
    "os.environ[\"PYSPARK_DRIVER_PYTHON\"] = sys.executable"
   ]
  },
  {
   "cell_type": "markdown",
   "metadata": {
    "application/vnd.databricks.v1+cell": {
     "cellMetadata": {},
     "inputWidgets": {},
     "nuid": "5feed169-43d5-49e0-a30e-1ebe71559339",
     "showTitle": false,
     "title": ""
    }
   },
   "source": [
    "#### Creating SparkSession"
   ]
  },
  {
   "cell_type": "code",
   "execution_count": 0,
   "metadata": {
    "application/vnd.databricks.v1+cell": {
     "cellMetadata": {
      "byteLimit": 2048000,
      "rowLimit": 10000
     },
     "inputWidgets": {},
     "nuid": "31761205-1ef9-4bc3-adb3-caaf314378b1",
     "showTitle": false,
     "title": ""
    }
   },
   "outputs": [
    {
     "output_type": "stream",
     "name": "stdout",
     "output_type": "stream",
     "text": [
      "Out[2]: '3.3.2'"
     ]
    }
   ],
   "source": [
    "from pyspark.sql import SparkSession\n",
    "spark = SparkSession.builder \\\n",
    "        .appName('fillna') \\\n",
    "        .getOrCreate()\n",
    "spark.version"
   ]
  },
  {
   "cell_type": "markdown",
   "metadata": {
    "application/vnd.databricks.v1+cell": {
     "cellMetadata": {},
     "inputWidgets": {},
     "nuid": "1863dd9a-65a0-44fa-9031-539d8810c58f",
     "showTitle": false,
     "title": ""
    }
   },
   "source": [
    "#### Read CSV"
   ]
  },
  {
   "cell_type": "code",
   "execution_count": 0,
   "metadata": {
    "application/vnd.databricks.v1+cell": {
     "cellMetadata": {
      "byteLimit": 2048000,
      "rowLimit": 10000
     },
     "inputWidgets": {},
     "nuid": "ed1686e3-af8e-4fdd-a165-3ee9395deca1",
     "showTitle": false,
     "title": ""
    }
   },
   "outputs": [],
   "source": [
    "df1 = spark.read.format(\"csv\").option(\"header\", \"true\").load(\"dbfs:/FileStore/shared_uploads/komatisatya1729@gmail.com/titanic.csv\")"
   ]
  },
  {
   "cell_type": "code",
   "execution_count": 0,
   "metadata": {
    "application/vnd.databricks.v1+cell": {
     "cellMetadata": {
      "byteLimit": 2048000,
      "rowLimit": 10000
     },
     "inputWidgets": {},
     "nuid": "ce85ce72-e7af-41af-bea4-d2d85562fead",
     "showTitle": false,
     "title": ""
    }
   },
   "outputs": [
    {
     "output_type": "stream",
     "name": "stdout",
     "output_type": "stream",
     "text": [
      "+-----------+-------------------------------------------------------+------+------+----+-----+-----+----------------+-------+-----+--------+--------+\n|PassengerId|Name                                                   |Pclass|Sex   |Age |SibSp|Parch|Ticket          |Fare   |Cabin|Embarked|Survived|\n+-----------+-------------------------------------------------------+------+------+----+-----+-----+----------------+-------+-----+--------+--------+\n|1          |Braund, Mr. Owen Harris                                |null  |male  |22  |1    |0    |A/5 21171       |7.25   |null |S       |0       |\n|2          |Cumings, Mrs. John Bradley (Florence Briggs Thayer)    |1     |female|38  |1    |0    |PC 17599        |71.2833|C85  |C       |1       |\n|3          |Heikkinen, Miss. Laina                                 |3     |female|26  |0    |0    |STON/O2. 3101282|7.925  |null |S       |1       |\n|4          |Futrelle, Mrs. Jacques Heath (Lily May Peel)           |1     |female|35  |1    |0    |113803          |53.1   |C123 |S       |1       |\n|5          |Allen, Mr. William Henry                               |3     |male  |35  |0    |0    |373450          |8.05   |null |S       |0       |\n|6          |Moran, Mr. James                                       |3     |male  |null|0    |0    |330877          |8.4583 |null |Q       |0       |\n|7          |McCarthy, Mr. Timothy J                                |1     |male  |54  |0    |0    |17463           |51.8625|E46  |S       |0       |\n|8          |Palsson, Master. Gosta Leonard                         |3     |male  |2   |3    |1    |349909          |21.075 |null |S       |0       |\n|9          |Johnson, Mrs. Oscar W (Elisabeth Vilhelmina Berg)      |3     |female|27  |0    |2    |347742          |11.1333|null |S       |1       |\n|10         |Nasser, Mrs. Nicholas (Adele Achem)                    |2     |female|14  |1    |0    |237736          |30.0708|null |C       |1       |\n|11         |Sandstrom, Miss. Marguerite Rut                        |3     |female|4   |1    |1    |PP 9549         |16.7   |G6   |S       |1       |\n|12         |Bonnell, Miss. Elizabeth                               |1     |female|58  |0    |0    |113783          |26.55  |C103 |S       |1       |\n|13         |Saundercock, Mr. William Henry                         |3     |male  |20  |0    |0    |A/5. 2151       |8.05   |null |S       |0       |\n|14         |Andersson, Mr. Anders Johan                            |3     |male  |39  |1    |5    |347082          |31.275 |null |S       |0       |\n|15         |Vestrom, Miss. Hulda Amanda Adolfina                   |3     |female|14  |0    |0    |350406          |7.8542 |null |S       |0       |\n|16         |Hewlett, Mrs. (Mary D Kingcome)                        |2     |female|55  |0    |0    |248706          |16     |null |S       |1       |\n|17         |Rice, Master. Eugene                                   |3     |male  |2   |4    |1    |382652          |29.125 |null |Q       |0       |\n|18         |Williams, Mr. Charles Eugene                           |2     |male  |null|0    |0    |244373          |13     |null |S       |1       |\n|19         |Vander Planke, Mrs. Julius (Emelia Maria Vandemoortele)|3     |female|31  |1    |0    |345763          |18     |null |S       |0       |\n|20         |Masselmani, Mrs. Fatima                                |3     |female|null|0    |0    |2649            |7.225  |null |C       |1       |\n+-----------+-------------------------------------------------------+------+------+----+-----+-----+----------------+-------+-----+--------+--------+\nonly showing top 20 rows\n\n"
     ]
    }
   ],
   "source": [
    "df1.show(truncate=False)"
   ]
  },
  {
   "cell_type": "code",
   "execution_count": 0,
   "metadata": {
    "application/vnd.databricks.v1+cell": {
     "cellMetadata": {
      "byteLimit": 2048000,
      "rowLimit": 10000
     },
     "inputWidgets": {},
     "nuid": "f091a182-2f20-4f19-a0c9-3e242b6899b3",
     "showTitle": false,
     "title": ""
    }
   },
   "outputs": [
    {
     "output_type": "stream",
     "name": "stdout",
     "output_type": "stream",
     "text": [
      "root\n |-- PassengerId: string (nullable = true)\n |-- Name: string (nullable = true)\n |-- Pclass: string (nullable = true)\n |-- Sex: string (nullable = true)\n |-- Age: string (nullable = true)\n |-- SibSp: string (nullable = true)\n |-- Parch: string (nullable = true)\n |-- Ticket: string (nullable = true)\n |-- Fare: string (nullable = true)\n |-- Cabin: string (nullable = true)\n |-- Embarked: string (nullable = true)\n |-- Survived: string (nullable = true)\n\n"
     ]
    }
   ],
   "source": [
    "df1.printSchema()"
   ]
  },
  {
   "cell_type": "markdown",
   "metadata": {
    "application/vnd.databricks.v1+cell": {
     "cellMetadata": {},
     "inputWidgets": {},
     "nuid": "effcaf15-bdc5-40f4-badd-03a23f944895",
     "showTitle": false,
     "title": ""
    }
   },
   "source": [
    "#### Replacing with number(using fillna)"
   ]
  },
  {
   "cell_type": "code",
   "execution_count": 0,
   "metadata": {
    "application/vnd.databricks.v1+cell": {
     "cellMetadata": {
      "byteLimit": 2048000,
      "rowLimit": 10000
     },
     "inputWidgets": {},
     "nuid": "b9e9c068-3a19-4207-a50d-1a272dc2c461",
     "showTitle": false,
     "title": ""
    }
   },
   "outputs": [
    {
     "output_type": "stream",
     "name": "stdout",
     "output_type": "stream",
     "text": [
      "+-----------+--------------------+------+------+----+-----+-----+----------------+-------+-----+--------+--------+\n|PassengerId|                Name|Pclass|   Sex| Age|SibSp|Parch|          Ticket|   Fare|Cabin|Embarked|Survived|\n+-----------+--------------------+------+------+----+-----+-----+----------------+-------+-----+--------+--------+\n|          1|Braund, Mr. Owen ...|  null|  male|  22|    1|    0|       A/5 21171|   7.25| null|       S|       0|\n|          2|Cumings, Mrs. Joh...|     1|female|  38|    1|    0|        PC 17599|71.2833|  C85|       C|       1|\n|          3|Heikkinen, Miss. ...|     3|female|  26|    0|    0|STON/O2. 3101282|  7.925| null|       S|       1|\n|          4|Futrelle, Mrs. Ja...|     1|female|  35|    1|    0|          113803|   53.1| C123|       S|       1|\n|          5|Allen, Mr. Willia...|     3|  male|  35|    0|    0|          373450|   8.05| null|       S|       0|\n|          6|    Moran, Mr. James|     3|  male|null|    0|    0|          330877| 8.4583| null|       Q|       0|\n|          7|McCarthy, Mr. Tim...|     1|  male|  54|    0|    0|           17463|51.8625|  E46|       S|       0|\n|          8|Palsson, Master. ...|     3|  male|   2|    3|    1|          349909| 21.075| null|       S|       0|\n|          9|Johnson, Mrs. Osc...|     3|female|  27|    0|    2|          347742|11.1333| null|       S|       1|\n|         10|Nasser, Mrs. Nich...|     2|female|  14|    1|    0|          237736|30.0708| null|       C|       1|\n|         11|Sandstrom, Miss. ...|     3|female|   4|    1|    1|         PP 9549|   16.7|   G6|       S|       1|\n|         12|Bonnell, Miss. El...|     1|female|  58|    0|    0|          113783|  26.55| C103|       S|       1|\n|         13|Saundercock, Mr. ...|     3|  male|  20|    0|    0|       A/5. 2151|   8.05| null|       S|       0|\n|         14|Andersson, Mr. An...|     3|  male|  39|    1|    5|          347082| 31.275| null|       S|       0|\n|         15|Vestrom, Miss. Hu...|     3|female|  14|    0|    0|          350406| 7.8542| null|       S|       0|\n|         16|Hewlett, Mrs. (Ma...|     2|female|  55|    0|    0|          248706|     16| null|       S|       1|\n|         17|Rice, Master. Eugene|     3|  male|   2|    4|    1|          382652| 29.125| null|       Q|       0|\n|         18|Williams, Mr. Cha...|     2|  male|null|    0|    0|          244373|     13| null|       S|       1|\n|         19|Vander Planke, Mr...|     3|female|  31|    1|    0|          345763|     18| null|       S|       0|\n|         20|Masselmani, Mrs. ...|     3|female|null|    0|    0|            2649|  7.225| null|       C|       1|\n+-----------+--------------------+------+------+----+-----+-----+----------------+-------+-----+--------+--------+\nonly showing top 20 rows\n\n"
     ]
    }
   ],
   "source": [
    "# If we replace with only integer type, Then only integer columns from the dataframe gets replaced.\n",
    "df1.fillna(value=0).show()"
   ]
  },
  {
   "cell_type": "markdown",
   "metadata": {
    "application/vnd.databricks.v1+cell": {
     "cellMetadata": {},
     "inputWidgets": {},
     "nuid": "a4a48413-3337-4306-acff-420c8d2919ef",
     "showTitle": false,
     "title": ""
    }
   },
   "source": [
    "#### Replacing with string(using na.fill)"
   ]
  },
  {
   "cell_type": "code",
   "execution_count": 0,
   "metadata": {
    "application/vnd.databricks.v1+cell": {
     "cellMetadata": {
      "byteLimit": 2048000,
      "rowLimit": 10000
     },
     "inputWidgets": {},
     "nuid": "b05940f4-c063-4d5f-9ef4-41c88dcb87af",
     "showTitle": false,
     "title": ""
    }
   },
   "outputs": [
    {
     "output_type": "stream",
     "name": "stdout",
     "output_type": "stream",
     "text": [
      "+-----------+--------------------+------+------+---+-----+-----+----------------+-------+-----+--------+--------+\n|PassengerId|                Name|Pclass|   Sex|Age|SibSp|Parch|          Ticket|   Fare|Cabin|Embarked|Survived|\n+-----------+--------------------+------+------+---+-----+-----+----------------+-------+-----+--------+--------+\n|          1|Braund, Mr. Owen ...|  null|  male| 22|    1|    0|       A/5 21171|   7.25| null|       S|       0|\n|          2|Cumings, Mrs. Joh...|     1|female| 38|    1|    0|        PC 17599|71.2833|  C85|       C|       1|\n|          3|Heikkinen, Miss. ...|     3|female| 26|    0|    0|STON/O2. 3101282|  7.925| null|       S|       1|\n|          4|Futrelle, Mrs. Ja...|     1|female| 35|    1|    0|          113803|   53.1| C123|       S|       1|\n|          5|Allen, Mr. Willia...|     3|  male| 35|    0|    0|          373450|   8.05| null|       S|       0|\n|          6|    Moran, Mr. James|     3|  male|  y|    0|    0|          330877| 8.4583| null|       Q|       0|\n|          7|McCarthy, Mr. Tim...|     1|  male| 54|    0|    0|           17463|51.8625|  E46|       S|       0|\n|          8|Palsson, Master. ...|     3|  male|  2|    3|    1|          349909| 21.075| null|       S|       0|\n|          9|Johnson, Mrs. Osc...|     3|female| 27|    0|    2|          347742|11.1333| null|       S|       1|\n|         10|Nasser, Mrs. Nich...|     2|female| 14|    1|    0|          237736|30.0708| null|       C|       1|\n|         11|Sandstrom, Miss. ...|     3|female|  4|    1|    1|         PP 9549|   16.7|   G6|       S|       1|\n|         12|Bonnell, Miss. El...|     1|female| 58|    0|    0|          113783|  26.55| C103|       S|       1|\n|         13|Saundercock, Mr. ...|     3|  male| 20|    0|    0|       A/5. 2151|   8.05| null|       S|       0|\n|         14|Andersson, Mr. An...|     3|  male| 39|    1|    5|          347082| 31.275| null|       S|       0|\n|         15|Vestrom, Miss. Hu...|     3|female| 14|    0|    0|          350406| 7.8542| null|       S|       0|\n|         16|Hewlett, Mrs. (Ma...|     2|female| 55|    0|    0|          248706|     16| null|       S|       1|\n|         17|Rice, Master. Eugene|     3|  male|  2|    4|    1|          382652| 29.125| null|       Q|       0|\n|         18|Williams, Mr. Cha...|     2|  male|  y|    0|    0|          244373|     13| null|       S|       1|\n|         19|Vander Planke, Mr...|     3|female| 31|    1|    0|          345763|     18| null|       S|       0|\n|         20|Masselmani, Mrs. ...|     3|female|  y|    0|    0|            2649|  7.225| null|       C|       1|\n+-----------+--------------------+------+------+---+-----+-----+----------------+-------+-----+--------+--------+\nonly showing top 20 rows\n\n"
     ]
    }
   ],
   "source": [
    "# Similarly, if we replace with only string type, then only string columns from df gets replaced.\n",
    "# Subset here means that we can replace the same value for some columns as per wish\n",
    "df1.na.fill(value = 'y', subset = ['Age']).show()"
   ]
  },
  {
   "cell_type": "markdown",
   "metadata": {
    "application/vnd.databricks.v1+cell": {
     "cellMetadata": {},
     "inputWidgets": {},
     "nuid": "56decef6-29dd-4d3d-bada-8ea839cf554d",
     "showTitle": false,
     "title": ""
    }
   },
   "source": [
    "#### Replacing null with a specific aggregate value"
   ]
  },
  {
   "cell_type": "code",
   "execution_count": 0,
   "metadata": {
    "application/vnd.databricks.v1+cell": {
     "cellMetadata": {
      "byteLimit": 2048000,
      "rowLimit": 10000
     },
     "inputWidgets": {},
     "nuid": "433f2e76-e687-48bb-9c1f-072e4f348658",
     "showTitle": false,
     "title": ""
    }
   },
   "outputs": [
    {
     "output_type": "stream",
     "name": "stdout",
     "output_type": "stream",
     "text": [
      "3\n"
     ]
    }
   ],
   "source": [
    "from pyspark.sql.functions import max\n",
    "max_pclass=df1.agg(max(\"pclass\")).collect()[0][0]\n",
    "print(max_pclass)"
   ]
  },
  {
   "cell_type": "code",
   "execution_count": 0,
   "metadata": {
    "application/vnd.databricks.v1+cell": {
     "cellMetadata": {
      "byteLimit": 2048000,
      "rowLimit": 10000
     },
     "inputWidgets": {},
     "nuid": "a6085de1-bdb0-4721-9111-29447768c7e5",
     "showTitle": false,
     "title": ""
    }
   },
   "outputs": [
    {
     "output_type": "stream",
     "name": "stdout",
     "output_type": "stream",
     "text": [
      "+-----------+--------------------+------+------+----+-----+-----+----------------+-------+-----+--------+--------+\n|PassengerId|                Name|Pclass|   Sex| Age|SibSp|Parch|          Ticket|   Fare|Cabin|Embarked|Survived|\n+-----------+--------------------+------+------+----+-----+-----+----------------+-------+-----+--------+--------+\n|          1|Braund, Mr. Owen ...|     3|  male|  22|    1|    0|       A/5 21171|   7.25| null|       S|       0|\n|          2|Cumings, Mrs. Joh...|     1|female|  38|    1|    0|        PC 17599|71.2833|  C85|       C|       1|\n|          3|Heikkinen, Miss. ...|     3|female|  26|    0|    0|STON/O2. 3101282|  7.925| null|       S|       1|\n|          4|Futrelle, Mrs. Ja...|     1|female|  35|    1|    0|          113803|   53.1| C123|       S|       1|\n|          5|Allen, Mr. Willia...|     3|  male|  35|    0|    0|          373450|   8.05| null|       S|       0|\n|          6|    Moran, Mr. James|     3|  male|null|    0|    0|          330877| 8.4583| null|       Q|       0|\n|          7|McCarthy, Mr. Tim...|     1|  male|  54|    0|    0|           17463|51.8625|  E46|       S|       0|\n|          8|Palsson, Master. ...|     3|  male|   2|    3|    1|          349909| 21.075| null|       S|       0|\n|          9|Johnson, Mrs. Osc...|     3|female|  27|    0|    2|          347742|11.1333| null|       S|       1|\n|         10|Nasser, Mrs. Nich...|     2|female|  14|    1|    0|          237736|30.0708| null|       C|       1|\n|         11|Sandstrom, Miss. ...|     3|female|   4|    1|    1|         PP 9549|   16.7|   G6|       S|       1|\n|         12|Bonnell, Miss. El...|     1|female|  58|    0|    0|          113783|  26.55| C103|       S|       1|\n|         13|Saundercock, Mr. ...|     3|  male|  20|    0|    0|       A/5. 2151|   8.05| null|       S|       0|\n|         14|Andersson, Mr. An...|     3|  male|  39|    1|    5|          347082| 31.275| null|       S|       0|\n|         15|Vestrom, Miss. Hu...|     3|female|  14|    0|    0|          350406| 7.8542| null|       S|       0|\n|         16|Hewlett, Mrs. (Ma...|     2|female|  55|    0|    0|          248706|     16| null|       S|       1|\n|         17|Rice, Master. Eugene|     3|  male|   2|    4|    1|          382652| 29.125| null|       Q|       0|\n|         18|Williams, Mr. Cha...|     2|  male|null|    0|    0|          244373|     13| null|       S|       1|\n|         19|Vander Planke, Mr...|     3|female|  31|    1|    0|          345763|     18| null|       S|       0|\n|         20|Masselmani, Mrs. ...|     3|female|null|    0|    0|            2649|  7.225| null|       C|       1|\n+-----------+--------------------+------+------+----+-----+-----+----------------+-------+-----+--------+--------+\nonly showing top 20 rows\n\n"
     ]
    }
   ],
   "source": [
    "df1.na.fill(value=max_pclass,subset=[\"pclass\"]).show()"
   ]
  },
  {
   "cell_type": "markdown",
   "metadata": {
    "application/vnd.databricks.v1+cell": {
     "cellMetadata": {},
     "inputWidgets": {},
     "nuid": "1e597e4b-fef6-460b-be5f-868ba6f2632f",
     "showTitle": false,
     "title": ""
    }
   },
   "source": [
    "##### Replacing with multiple values for multiple columns"
   ]
  },
  {
   "cell_type": "code",
   "execution_count": 0,
   "metadata": {
    "application/vnd.databricks.v1+cell": {
     "cellMetadata": {
      "byteLimit": 2048000,
      "rowLimit": 10000
     },
     "inputWidgets": {},
     "nuid": "b2368e51-9d04-4f0b-a9f9-e69144bc5a4c",
     "showTitle": false,
     "title": ""
    }
   },
   "outputs": [
    {
     "output_type": "stream",
     "name": "stdout",
     "output_type": "stream",
     "text": [
      "+-----------+--------------------+------+------+------+-----+-----+----------------+-------+------+--------+--------+\n|PassengerId|                Name|Pclass|   Sex|   Age|SibSp|Parch|          Ticket|   Fare| Cabin|Embarked|Survived|\n+-----------+--------------------+------+------+------+-----+-----+----------------+-------+------+--------+--------+\n|          1|Braund, Mr. Owen ...|  null|  male|    22|    1|    0|       A/5 21171|   7.25|Unique|       S|       0|\n|          2|Cumings, Mrs. Joh...|     1|female|    38|    1|    0|        PC 17599|71.2833|   C85|       C|       1|\n|          3|Heikkinen, Miss. ...|     3|female|    26|    0|    0|STON/O2. 3101282|  7.925|Unique|       S|       1|\n|          4|Futrelle, Mrs. Ja...|     1|female|    35|    1|    0|          113803|   53.1|  C123|       S|       1|\n|          5|Allen, Mr. Willia...|     3|  male|    35|    0|    0|          373450|   8.05|Unique|       S|       0|\n|          6|    Moran, Mr. James|     3|  male|Unknow|    0|    0|          330877| 8.4583|Unique|       Q|       0|\n|          7|McCarthy, Mr. Tim...|     1|  male|    54|    0|    0|           17463|51.8625|   E46|       S|       0|\n|          8|Palsson, Master. ...|     3|  male|     2|    3|    1|          349909| 21.075|Unique|       S|       0|\n|          9|Johnson, Mrs. Osc...|     3|female|    27|    0|    2|          347742|11.1333|Unique|       S|       1|\n|         10|Nasser, Mrs. Nich...|     2|female|    14|    1|    0|          237736|30.0708|Unique|       C|       1|\n|         11|Sandstrom, Miss. ...|     3|female|     4|    1|    1|         PP 9549|   16.7|    G6|       S|       1|\n|         12|Bonnell, Miss. El...|     1|female|    58|    0|    0|          113783|  26.55|  C103|       S|       1|\n|         13|Saundercock, Mr. ...|     3|  male|    20|    0|    0|       A/5. 2151|   8.05|Unique|       S|       0|\n|         14|Andersson, Mr. An...|     3|  male|    39|    1|    5|          347082| 31.275|Unique|       S|       0|\n|         15|Vestrom, Miss. Hu...|     3|female|    14|    0|    0|          350406| 7.8542|Unique|       S|       0|\n|         16|Hewlett, Mrs. (Ma...|     2|female|    55|    0|    0|          248706|     16|Unique|       S|       1|\n|         17|Rice, Master. Eugene|     3|  male|     2|    4|    1|          382652| 29.125|Unique|       Q|       0|\n|         18|Williams, Mr. Cha...|     2|  male|Unknow|    0|    0|          244373|     13|Unique|       S|       1|\n|         19|Vander Planke, Mr...|     3|female|    31|    1|    0|          345763|     18|Unique|       S|       0|\n|         20|Masselmani, Mrs. ...|     3|female|Unknow|    0|    0|            2649|  7.225|Unique|       C|       1|\n+-----------+--------------------+------+------+------+-----+-----+----------------+-------+------+--------+--------+\nonly showing top 20 rows\n\n"
     ]
    }
   ],
   "source": [
    "df1.na.fill(\"Unique\",['Cabin'])\\\n",
    "    .na.fill(\"Unknow\",['Age']).show()"
   ]
  },
  {
   "cell_type": "markdown",
   "metadata": {
    "application/vnd.databricks.v1+cell": {
     "cellMetadata": {},
     "inputWidgets": {},
     "nuid": "fb7a0ada-40a5-4287-bf06-39941177364c",
     "showTitle": false,
     "title": ""
    }
   },
   "source": [
    "##### Replacing with multiple values for multiple columns using Dictionary"
   ]
  },
  {
   "cell_type": "code",
   "execution_count": 0,
   "metadata": {
    "application/vnd.databricks.v1+cell": {
     "cellMetadata": {
      "byteLimit": 2048000,
      "rowLimit": 10000
     },
     "inputWidgets": {},
     "nuid": "340796fe-4448-44a2-9817-a42f13c30241",
     "showTitle": false,
     "title": ""
    }
   },
   "outputs": [
    {
     "output_type": "stream",
     "name": "stdout",
     "output_type": "stream",
     "text": [
      "+-----------+--------------------+------+------+-------+-----+-----+----------------+-------+------+--------+--------+\n|PassengerId|                Name|Pclass|   Sex|    Age|SibSp|Parch|          Ticket|   Fare| Cabin|Embarked|Survived|\n+-----------+--------------------+------+------+-------+-----+-----+----------------+-------+------+--------+--------+\n|          1|Braund, Mr. Owen ...|  null|  male|     22|    1|    0|       A/5 21171|   7.25|Unique|       S|       0|\n|          2|Cumings, Mrs. Joh...|     1|female|     38|    1|    0|        PC 17599|71.2833|   C85|       C|       1|\n|          3|Heikkinen, Miss. ...|     3|female|     26|    0|    0|STON/O2. 3101282|  7.925|Unique|       S|       1|\n|          4|Futrelle, Mrs. Ja...|     1|female|     35|    1|    0|          113803|   53.1|  C123|       S|       1|\n|          5|Allen, Mr. Willia...|     3|  male|     35|    0|    0|          373450|   8.05|Unique|       S|       0|\n|          6|    Moran, Mr. James|     3|  male|Unknown|    0|    0|          330877| 8.4583|Unique|       Q|       0|\n|          7|McCarthy, Mr. Tim...|     1|  male|     54|    0|    0|           17463|51.8625|   E46|       S|       0|\n|          8|Palsson, Master. ...|     3|  male|      2|    3|    1|          349909| 21.075|Unique|       S|       0|\n|          9|Johnson, Mrs. Osc...|     3|female|     27|    0|    2|          347742|11.1333|Unique|       S|       1|\n|         10|Nasser, Mrs. Nich...|     2|female|     14|    1|    0|          237736|30.0708|Unique|       C|       1|\n|         11|Sandstrom, Miss. ...|     3|female|      4|    1|    1|         PP 9549|   16.7|    G6|       S|       1|\n|         12|Bonnell, Miss. El...|     1|female|     58|    0|    0|          113783|  26.55|  C103|       S|       1|\n|         13|Saundercock, Mr. ...|     3|  male|     20|    0|    0|       A/5. 2151|   8.05|Unique|       S|       0|\n|         14|Andersson, Mr. An...|     3|  male|     39|    1|    5|          347082| 31.275|Unique|       S|       0|\n|         15|Vestrom, Miss. Hu...|     3|female|     14|    0|    0|          350406| 7.8542|Unique|       S|       0|\n|         16|Hewlett, Mrs. (Ma...|     2|female|     55|    0|    0|          248706|     16|Unique|       S|       1|\n|         17|Rice, Master. Eugene|     3|  male|      2|    4|    1|          382652| 29.125|Unique|       Q|       0|\n|         18|Williams, Mr. Cha...|     2|  male|Unknown|    0|    0|          244373|     13|Unique|       S|       1|\n|         19|Vander Planke, Mr...|     3|female|     31|    1|    0|          345763|     18|Unique|       S|       0|\n|         20|Masselmani, Mrs. ...|     3|female|Unknown|    0|    0|            2649|  7.225|Unique|       C|       1|\n+-----------+--------------------+------+------+-------+-----+-----+----------------+-------+------+--------+--------+\nonly showing top 20 rows\n\n"
     ]
    }
   ],
   "source": [
    "rep_dict={\n",
    "    \"Age\":\"Unknown\",\n",
    "    \"Cabin\":\"Unique\"\n",
    "}\n",
    "df1.fillna(rep_dict).show()"
   ]
  },
  {
   "cell_type": "code",
   "execution_count": 0,
   "metadata": {
    "application/vnd.databricks.v1+cell": {
     "cellMetadata": {},
     "inputWidgets": {},
     "nuid": "ce209b6e-c82c-468a-956f-e9fe84b9d0b7",
     "showTitle": false,
     "title": ""
    }
   },
   "outputs": [],
   "source": []
  }
 ],
 "metadata": {
  "application/vnd.databricks.v1+notebook": {
   "dashboards": [],
   "environmentMetadata": null,
   "language": "python",
   "notebookMetadata": {
    "pythonIndentUnit": 4
   },
   "notebookName": "PySpark fill and fillna",
   "widgets": {}
  }
 },
 "nbformat": 4,
 "nbformat_minor": 0
}
