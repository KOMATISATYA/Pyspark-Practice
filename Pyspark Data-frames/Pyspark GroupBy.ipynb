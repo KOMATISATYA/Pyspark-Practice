{
 "cells": [
  {
   "cell_type": "code",
   "execution_count": 0,
   "metadata": {
    "application/vnd.databricks.v1+cell": {
     "cellMetadata": {
      "byteLimit": 2048000,
      "rowLimit": 10000
     },
     "inputWidgets": {},
     "nuid": "51345caf-3736-41b1-a19e-9ec8f4b24dc8",
     "showTitle": false,
     "title": ""
    }
   },
   "outputs": [],
   "source": [
    "import os\n",
    "import sys\n",
    "os.environ[\"PYSPARK_PYTHON\"] = sys.executable\n",
    "os.environ[\"PYSPARK_DRIVER_PYTHON\"] = sys.executable"
   ]
  },
  {
   "cell_type": "code",
   "execution_count": 0,
   "metadata": {
    "application/vnd.databricks.v1+cell": {
     "cellMetadata": {
      "byteLimit": 2048000,
      "rowLimit": 10000
     },
     "inputWidgets": {},
     "nuid": "1b86b63c-7658-4907-b4af-270eccc46c8e",
     "showTitle": false,
     "title": ""
    }
   },
   "outputs": [],
   "source": [
    "from pyspark.sql import SparkSession\n",
    "spark = SparkSession.builder\\\n",
    "        .appName(\"Group By\")\\\n",
    "        .getOrCreate()"
   ]
  },
  {
   "cell_type": "code",
   "execution_count": 0,
   "metadata": {
    "application/vnd.databricks.v1+cell": {
     "cellMetadata": {
      "byteLimit": 2048000,
      "rowLimit": 10000
     },
     "inputWidgets": {},
     "nuid": "e93b2a54-189a-4e5e-bdd3-99a9313a7207",
     "showTitle": false,
     "title": ""
    }
   },
   "outputs": [
    {
     "output_type": "stream",
     "name": "stdout",
     "output_type": "stream",
     "text": [
      "root\n |-- employee_name: string (nullable = true)\n |-- department: string (nullable = true)\n |-- state: string (nullable = true)\n |-- salary: long (nullable = true)\n |-- age: long (nullable = true)\n |-- bonus: long (nullable = true)\n\n"
     ]
    }
   ],
   "source": [
    "simpleData = [(\"James\",\"Sales\",\"NY\",90000,34,10000),\n",
    "    (\"Michael\",\"Sales\",\"NY\",86000,56,20000),\n",
    "    (\"Robert\",\"Sales\",\"CA\",81000,30,23000),\n",
    "    (\"Maria\",\"Finance\",\"CA\",90000,24,23000),\n",
    "    (\"Raman\",\"Finance\",\"CA\",99000,40,24000),\n",
    "    (\"Scott\",\"Finance\",\"NY\",83000,36,19000),\n",
    "    (\"Jen\",\"Finance\",\"NY\",79000,53,15000),\n",
    "    (\"Jeff\",\"Marketing\",\"CA\",80000,25,18000),\n",
    "    (\"Kumar\",\"Marketing\",\"NY\",91000,50,21000)\n",
    "  ]\n",
    "\n",
    "schema = [\"employee_name\",\"department\",\"state\",\"salary\",\"age\",\"bonus\"]\n",
    "df = spark.createDataFrame(data=simpleData, schema = schema)\n",
    "df.printSchema()"
   ]
  },
  {
   "cell_type": "code",
   "execution_count": 0,
   "metadata": {
    "application/vnd.databricks.v1+cell": {
     "cellMetadata": {
      "byteLimit": 2048000,
      "rowLimit": 10000
     },
     "inputWidgets": {},
     "nuid": "a71df6ea-49da-4d30-a9b4-9fb423efacb8",
     "showTitle": false,
     "title": ""
    }
   },
   "outputs": [
    {
     "output_type": "stream",
     "name": "stdout",
     "output_type": "stream",
     "text": [
      "+-------------+----------+-----+------+---+-----+\n|employee_name|department|state|salary|age|bonus|\n+-------------+----------+-----+------+---+-----+\n|        James|     Sales|   NY| 90000| 34|10000|\n|      Michael|     Sales|   NY| 86000| 56|20000|\n|       Robert|     Sales|   CA| 81000| 30|23000|\n|        Maria|   Finance|   CA| 90000| 24|23000|\n|        Raman|   Finance|   CA| 99000| 40|24000|\n|        Scott|   Finance|   NY| 83000| 36|19000|\n|          Jen|   Finance|   NY| 79000| 53|15000|\n|         Jeff| Marketing|   CA| 80000| 25|18000|\n|        Kumar| Marketing|   NY| 91000| 50|21000|\n+-------------+----------+-----+------+---+-----+\n\n"
     ]
    }
   ],
   "source": [
    "df.show()"
   ]
  },
  {
   "cell_type": "markdown",
   "metadata": {
    "application/vnd.databricks.v1+cell": {
     "cellMetadata": {},
     "inputWidgets": {},
     "nuid": "f6346cf4-9e70-4543-8aa8-0e95e74421d3",
     "showTitle": false,
     "title": ""
    }
   },
   "source": [
    "#### Group By"
   ]
  },
  {
   "cell_type": "markdown",
   "metadata": {
    "application/vnd.databricks.v1+cell": {
     "cellMetadata": {},
     "inputWidgets": {},
     "nuid": "c9a3f038-2fb4-4fee-a564-66bd47b5489a",
     "showTitle": false,
     "title": ""
    }
   },
   "source": [
    "##### Single column"
   ]
  },
  {
   "cell_type": "code",
   "execution_count": 0,
   "metadata": {
    "application/vnd.databricks.v1+cell": {
     "cellMetadata": {
      "byteLimit": 2048000,
      "rowLimit": 10000
     },
     "inputWidgets": {},
     "nuid": "b016c66c-4fa4-4cb1-ba63-ad57708a3d0b",
     "showTitle": false,
     "title": ""
    }
   },
   "outputs": [
    {
     "output_type": "stream",
     "name": "stdout",
     "output_type": "stream",
     "text": [
      "+----------+-----+\n|department|count|\n+----------+-----+\n| Marketing|    2|\n|     Sales|    3|\n|   Finance|    4|\n+----------+-----+\n\n"
     ]
    }
   ],
   "source": [
    "df.groupBy(\"department\").count().orderBy(\"count\").show()"
   ]
  },
  {
   "cell_type": "code",
   "execution_count": 0,
   "metadata": {
    "application/vnd.databricks.v1+cell": {
     "cellMetadata": {
      "byteLimit": 2048000,
      "rowLimit": 10000
     },
     "inputWidgets": {},
     "nuid": "19299a4c-7e9f-4eb9-96b6-b29b184d90f7",
     "showTitle": false,
     "title": ""
    }
   },
   "outputs": [
    {
     "output_type": "stream",
     "name": "stdout",
     "output_type": "stream",
     "text": [
      "+----------+-----+\n|department|count|\n+----------+-----+\n|   Finance|    4|\n|     Sales|    3|\n| Marketing|    2|\n+----------+-----+\n\n"
     ]
    }
   ],
   "source": [
    "df.groupBy(\"department\").count().orderBy(\"count\", ascending = False).show()"
   ]
  },
  {
   "cell_type": "code",
   "execution_count": 0,
   "metadata": {
    "application/vnd.databricks.v1+cell": {
     "cellMetadata": {
      "byteLimit": 2048000,
      "rowLimit": 10000
     },
     "inputWidgets": {},
     "nuid": "2e285305-da37-45e8-b147-16f8708710fe",
     "showTitle": false,
     "title": ""
    }
   },
   "outputs": [
    {
     "output_type": "stream",
     "name": "stdout",
     "output_type": "stream",
     "text": [
      "+----------+------------------+\n|department|        avg(bonus)|\n+----------+------------------+\n|     Sales|17666.666666666668|\n|   Finance|           20250.0|\n| Marketing|           19500.0|\n+----------+------------------+\n\n"
     ]
    }
   ],
   "source": [
    "from pyspark.sql.functions import col\n",
    "df.groupBy(col(\"department\")).mean(\"bonus\").show()"
   ]
  },
  {
   "cell_type": "code",
   "execution_count": 0,
   "metadata": {
    "application/vnd.databricks.v1+cell": {
     "cellMetadata": {
      "byteLimit": 2048000,
      "rowLimit": 10000
     },
     "inputWidgets": {},
     "nuid": "4e976c03-070e-4ee7-80cd-a9e59d3faf93",
     "showTitle": false,
     "title": ""
    }
   },
   "outputs": [
    {
     "output_type": "stream",
     "name": "stdout",
     "output_type": "stream",
     "text": [
      "+----------+---------+\n|department|max_Bonus|\n+----------+---------+\n|     Sales|    23000|\n|   Finance|    24000|\n| Marketing|    21000|\n+----------+---------+\n\n"
     ]
    }
   ],
   "source": [
    "df.groupBy(\"department\").max(\"bonus\").withColumnRenamed(\"max(bonus)\", \"max_Bonus\").show()"
   ]
  },
  {
   "cell_type": "markdown",
   "metadata": {
    "application/vnd.databricks.v1+cell": {
     "cellMetadata": {},
     "inputWidgets": {},
     "nuid": "413b0cd7-fdc5-4596-83db-48700e7cb85b",
     "showTitle": false,
     "title": ""
    }
   },
   "source": [
    "#### With Multiple Columns "
   ]
  },
  {
   "cell_type": "code",
   "execution_count": 0,
   "metadata": {
    "application/vnd.databricks.v1+cell": {
     "cellMetadata": {
      "byteLimit": 2048000,
      "rowLimit": 10000
     },
     "inputWidgets": {},
     "nuid": "e41075d2-6bc3-401f-9fba-639b87db39b3",
     "showTitle": false,
     "title": ""
    }
   },
   "outputs": [
    {
     "output_type": "stream",
     "name": "stdout",
     "output_type": "stream",
     "text": [
      "+----------+-----+-----------+----------+\n|department|state|sum(salary)|sum(bonus)|\n+----------+-----+-----------+----------+\n|     Sales|   NY|     176000|     30000|\n|     Sales|   CA|      81000|     23000|\n|   Finance|   CA|     189000|     47000|\n|   Finance|   NY|     162000|     34000|\n| Marketing|   NY|      91000|     21000|\n| Marketing|   CA|      80000|     18000|\n+----------+-----+-----------+----------+\n\n"
     ]
    }
   ],
   "source": [
    "df.groupBy(\"department\",\"state\").sum(\"salary\",\"bonus\").show()"
   ]
  },
  {
   "cell_type": "code",
   "execution_count": 0,
   "metadata": {
    "application/vnd.databricks.v1+cell": {
     "cellMetadata": {
      "byteLimit": 2048000,
      "rowLimit": 10000
     },
     "inputWidgets": {},
     "nuid": "5e2c0bae-0185-4bec-8df8-0bde8fdf1986",
     "showTitle": false,
     "title": ""
    }
   },
   "outputs": [
    {
     "output_type": "stream",
     "name": "stdout",
     "output_type": "stream",
     "text": [
      "+-----+----------+----------+-----------+\n|state|department|sum(bonus)|sum(salary)|\n+-----+----------+----------+-----------+\n|   NY|     Sales|     30000|     176000|\n|   CA|     Sales|     23000|      81000|\n|   CA|   Finance|     47000|     189000|\n|   NY|   Finance|     34000|     162000|\n|   CA| Marketing|     18000|      80000|\n|   NY| Marketing|     21000|      91000|\n+-----+----------+----------+-----------+\n\n"
     ]
    }
   ],
   "source": [
    "df.groupBy(df.state,df.department).sum(\"bonus\",\"salary\").show()"
   ]
  },
  {
   "cell_type": "markdown",
   "metadata": {
    "application/vnd.databricks.v1+cell": {
     "cellMetadata": {},
     "inputWidgets": {},
     "nuid": "f51025af-095b-4f19-8ada-b65271eaa460",
     "showTitle": false,
     "title": ""
    }
   },
   "source": [
    "#### More aggregates at sama time"
   ]
  },
  {
   "cell_type": "code",
   "execution_count": 0,
   "metadata": {
    "application/vnd.databricks.v1+cell": {
     "cellMetadata": {
      "byteLimit": 2048000,
      "rowLimit": 10000
     },
     "inputWidgets": {},
     "nuid": "5a59ac1a-4ac6-49c9-a6f4-3505c016cf85",
     "showTitle": false,
     "title": ""
    }
   },
   "outputs": [
    {
     "output_type": "stream",
     "name": "stdout",
     "output_type": "stream",
     "text": [
      "+-----+----------+----------+---------+---------+\n|state|sum_salary|avg_salary|sum_bonus|max_bonus|\n+-----+----------+----------+---------+---------+\n|   NY|    429000|   85800.0|    85000|    21000|\n|   CA|    350000|   87500.0|    88000|    24000|\n+-----+----------+----------+---------+---------+\n\n"
     ]
    }
   ],
   "source": [
    "from pyspark.sql.functions import avg, sum, max\n",
    "df.groupBy(\"state\")\\\n",
    "    .agg(\n",
    "        sum(\"salary\").alias(\"sum_salary\"),\\\n",
    "        avg(\"salary\").alias(\"avg_salary\"),\\\n",
    "        sum(\"bonus\").alias(\"sum_bonus\"),\\\n",
    "        max(\"bonus\").alias(\"max_bonus\")\n",
    "    )\\\n",
    "    .show()"
   ]
  },
  {
   "cell_type": "markdown",
   "metadata": {
    "application/vnd.databricks.v1+cell": {
     "cellMetadata": {},
     "inputWidgets": {},
     "nuid": "b9312cad-75ba-4dca-8c6a-2a56227b679f",
     "showTitle": false,
     "title": ""
    }
   },
   "source": [
    "#### Using filter over the aggregate data"
   ]
  },
  {
   "cell_type": "code",
   "execution_count": 0,
   "metadata": {
    "application/vnd.databricks.v1+cell": {
     "cellMetadata": {
      "byteLimit": 2048000,
      "rowLimit": 10000
     },
     "inputWidgets": {},
     "nuid": "d0c06770-283d-4bb2-8c0b-c2e6efc63a60",
     "showTitle": false,
     "title": ""
    }
   },
   "outputs": [
    {
     "output_type": "stream",
     "name": "stdout",
     "output_type": "stream",
     "text": [
      "+----------+----------+-----------------+---------+------------------+\n|department|sum_salary|       avg_salary|sum_bonus|         avg_bonus|\n+----------+----------+-----------------+---------+------------------+\n|     Sales|    257000|85666.66666666667|    53000|17666.666666666668|\n| Marketing|    171000|          85500.0|    39000|           19500.0|\n+----------+----------+-----------------+---------+------------------+\n\n"
     ]
    }
   ],
   "source": [
    "df.groupBy(\"department\")\\\n",
    "    .agg(\n",
    "        sum(\"salary\").alias(\"sum_salary\"),\\\n",
    "        avg(\"salary\").alias(\"avg_salary\"),\\\n",
    "        sum(\"bonus\").alias(\"sum_bonus\"),\\\n",
    "        avg(\"bonus\").alias(\"avg_bonus\")\n",
    "    )\\\n",
    "    .filter(col(\"sum_salary\")<=300000)\\\n",
    "    .show()"
   ]
  }
 ],
 "metadata": {
  "application/vnd.databricks.v1+notebook": {
   "dashboards": [],
   "environmentMetadata": null,
   "language": "python",
   "notebookMetadata": {
    "pythonIndentUnit": 4
   },
   "notebookName": "Pyspark GroupBy",
   "widgets": {}
  }
 },
 "nbformat": 4,
 "nbformat_minor": 0
}
