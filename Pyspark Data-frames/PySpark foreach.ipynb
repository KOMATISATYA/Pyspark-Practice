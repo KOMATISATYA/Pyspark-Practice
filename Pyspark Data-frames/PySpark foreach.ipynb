{
 "cells": [
  {
   "cell_type": "markdown",
   "metadata": {
    "application/vnd.databricks.v1+cell": {
     "cellMetadata": {},
     "inputWidgets": {},
     "nuid": "d104a0ee-02ff-4fec-99a4-44789a3502d0",
     "showTitle": false,
     "title": ""
    }
   },
   "source": [
    "#### Setting Environment variables"
   ]
  },
  {
   "cell_type": "code",
   "execution_count": 0,
   "metadata": {
    "application/vnd.databricks.v1+cell": {
     "cellMetadata": {
      "byteLimit": 2048000,
      "rowLimit": 10000
     },
     "inputWidgets": {},
     "nuid": "d88e1ec2-2700-4d40-910b-8b0333bfff80",
     "showTitle": false,
     "title": ""
    }
   },
   "outputs": [],
   "source": [
    "import os\n",
    "import sys\n",
    "os.environ[\"PYSPARK_PYTHON\"] = sys.executable\n",
    "os.environ[\"PYSPARK_DRIVER_PYTHON\"] = sys.executable"
   ]
  },
  {
   "cell_type": "code",
   "execution_count": 0,
   "metadata": {
    "application/vnd.databricks.v1+cell": {
     "cellMetadata": {
      "byteLimit": 2048000,
      "rowLimit": 10000
     },
     "inputWidgets": {},
     "nuid": "cb455fb4-d76e-42ae-a7e0-b1f7045650f0",
     "showTitle": false,
     "title": ""
    }
   },
   "outputs": [
    {
     "output_type": "stream",
     "name": "stdout",
     "output_type": "stream",
     "text": [
      "+-----+------+\n|seqNo|  name|\n+-----+------+\n|    1|  john|\n|    2|tracey|\n|    3|   amy|\n+-----+------+\n\n"
     ]
    }
   ],
   "source": [
    "columns=['seqNo','name']\n",
    "data=[(\"1\",\"john\"),\n",
    "      (\"2\",\"tracey\"),\n",
    "      (\"3\",\"amy\")]\n",
    "df=spark.createDataFrame(data=data,schema=columns)\n",
    "df.show()"
   ]
  },
  {
   "cell_type": "code",
   "execution_count": 0,
   "metadata": {
    "application/vnd.databricks.v1+cell": {
     "cellMetadata": {
      "byteLimit": 2048000,
      "rowLimit": 10000
     },
     "inputWidgets": {},
     "nuid": "6417c3c7-43ab-4320-9af6-c2aeeec2dd9f",
     "showTitle": false,
     "title": ""
    }
   },
   "outputs": [
    {
     "output_type": "stream",
     "name": "stdout",
     "output_type": "stream",
     "text": [
      "None\n"
     ]
    }
   ],
   "source": [
    "def f(df):\n",
    "    print(df['name'])\n",
    "df.foreach(f)"
   ]
  },
  {
   "cell_type": "markdown",
   "metadata": {
    "application/vnd.databricks.v1+cell": {
     "cellMetadata": {},
     "inputWidgets": {},
     "nuid": "19f5135a-6adf-4312-81ef-d45234a8c11b",
     "showTitle": false,
     "title": ""
    }
   },
   "source": [
    "#### foreach with accumulator"
   ]
  },
  {
   "cell_type": "code",
   "execution_count": 0,
   "metadata": {
    "application/vnd.databricks.v1+cell": {
     "cellMetadata": {
      "byteLimit": 2048000,
      "rowLimit": 10000
     },
     "inputWidgets": {},
     "nuid": "fdb55377-fd26-45c2-bddf-d06d523568eb",
     "showTitle": false,
     "title": ""
    }
   },
   "outputs": [
    {
     "output_type": "stream",
     "name": "stdout",
     "output_type": "stream",
     "text": [
      "6\n"
     ]
    }
   ],
   "source": [
    "acc=spark.sparkContext.accumulator(0)\n",
    "df.foreach(lambda x: acc.add(int(x.seqNo)))\n",
    "print(acc.value)"
   ]
  },
  {
   "cell_type": "markdown",
   "metadata": {
    "application/vnd.databricks.v1+cell": {
     "cellMetadata": {},
     "inputWidgets": {},
     "nuid": "2df5a722-d202-47a4-a111-0b322195446e",
     "showTitle": false,
     "title": ""
    }
   },
   "source": [
    "#### foreach with RDD"
   ]
  },
  {
   "cell_type": "code",
   "execution_count": 0,
   "metadata": {
    "application/vnd.databricks.v1+cell": {
     "cellMetadata": {
      "byteLimit": 2048000,
      "rowLimit": 10000
     },
     "inputWidgets": {},
     "nuid": "0bf13940-2e55-4177-af70-782850806cb4",
     "showTitle": false,
     "title": ""
    }
   },
   "outputs": [
    {
     "output_type": "stream",
     "name": "stdout",
     "output_type": "stream",
     "text": [
      "15\n"
     ]
    }
   ],
   "source": [
    "data=[1,2,3,4,5]\n",
    "acc=spark.sparkContext.accumulator(0)\n",
    "rdd=spark.sparkContext.parallelize(data)\n",
    "rdd.foreach(lambda x:acc.add(x))\n",
    "print(acc)"
   ]
  },
  {
   "cell_type": "code",
   "execution_count": 0,
   "metadata": {
    "application/vnd.databricks.v1+cell": {
     "cellMetadata": {},
     "inputWidgets": {},
     "nuid": "b46321ec-b292-4448-bf46-dd792f8c3c15",
     "showTitle": false,
     "title": ""
    }
   },
   "outputs": [],
   "source": []
  }
 ],
 "metadata": {
  "application/vnd.databricks.v1+notebook": {
   "dashboards": [],
   "environmentMetadata": null,
   "language": "python",
   "notebookMetadata": {
    "pythonIndentUnit": 4
   },
   "notebookName": "PySpark foreach",
   "widgets": {}
  }
 },
 "nbformat": 4,
 "nbformat_minor": 0
}
