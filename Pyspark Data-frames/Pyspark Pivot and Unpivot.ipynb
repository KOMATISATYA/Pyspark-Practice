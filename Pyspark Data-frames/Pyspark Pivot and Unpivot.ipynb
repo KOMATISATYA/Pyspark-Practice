{
 "cells": [
  {
   "cell_type": "code",
   "execution_count": 0,
   "metadata": {
    "application/vnd.databricks.v1+cell": {
     "cellMetadata": {
      "byteLimit": 2048000,
      "rowLimit": 10000
     },
     "inputWidgets": {},
     "nuid": "44367ded-8f4e-43c5-8e99-31bca0490c44",
     "showTitle": false,
     "title": ""
    }
   },
   "outputs": [],
   "source": [
    "import os\n",
    "import sys\n",
    "os.environ[\"PYSPARK_PYTHON\"] = sys.executable\n",
    "os.environ[\"PYSPARK_DRIVER_PYTHON\"] = sys.executable"
   ]
  },
  {
   "cell_type": "code",
   "execution_count": 0,
   "metadata": {
    "application/vnd.databricks.v1+cell": {
     "cellMetadata": {
      "byteLimit": 2048000,
      "rowLimit": 10000
     },
     "inputWidgets": {},
     "nuid": "03ebbc6f-6452-4ef6-81e5-514bf790f172",
     "showTitle": false,
     "title": ""
    }
   },
   "outputs": [],
   "source": [
    "from pyspark.sql import SparkSession\n",
    "spark=SparkSession.builder\\\n",
    "    .appName(\"PivotAndUnpivot\")\\\n",
    "    .getOrCreate()"
   ]
  },
  {
   "cell_type": "code",
   "execution_count": 0,
   "metadata": {
    "application/vnd.databricks.v1+cell": {
     "cellMetadata": {
      "byteLimit": 2048000,
      "rowLimit": 10000
     },
     "inputWidgets": {},
     "nuid": "ab179de4-10d3-4a77-8c76-81bb95b12d03",
     "showTitle": false,
     "title": ""
    }
   },
   "outputs": [
    {
     "output_type": "stream",
     "name": "stdout",
     "output_type": "stream",
     "text": [
      "root\n |-- Product: string (nullable = true)\n |-- Amount: long (nullable = true)\n |-- Country: string (nullable = true)\n\n"
     ]
    }
   ],
   "source": [
    "data = [(\"Banana\",1000,\"USA\"), (\"Carrots\",1500,\"USA\"), (\"Beans\",1600,\"USA\"), \\\n",
    "      (\"Orange\",2000,\"USA\"),(\"Orange\",2000,\"USA\"),(\"Banana\",400,\"China\"), \\\n",
    "      (\"Carrots\",1200,\"China\"),(\"Beans\",1500,\"China\"),(\"Orange\",4000,\"China\"), \\\n",
    "      (\"Banana\",2000,\"Canada\"),(\"Carrots\",2000,\"Canada\"),(\"Beans\",2000,\"Mexico\")]\n",
    "\n",
    "columns= [\"Product\",\"Amount\",\"Country\"]\n",
    "df = spark.createDataFrame(data = data, schema = columns)\n",
    "df.printSchema()"
   ]
  },
  {
   "cell_type": "code",
   "execution_count": 0,
   "metadata": {
    "application/vnd.databricks.v1+cell": {
     "cellMetadata": {
      "byteLimit": 2048000,
      "rowLimit": 10000
     },
     "inputWidgets": {},
     "nuid": "813deb65-8697-4a4e-a28e-d30267212428",
     "showTitle": false,
     "title": ""
    }
   },
   "outputs": [
    {
     "output_type": "stream",
     "name": "stdout",
     "output_type": "stream",
     "text": [
      "+-------+------+-------+\n|Product|Amount|Country|\n+-------+------+-------+\n| Banana|  1000|    USA|\n|Carrots|  1500|    USA|\n|  Beans|  1600|    USA|\n| Orange|  2000|    USA|\n| Orange|  2000|    USA|\n| Banana|   400|  China|\n|Carrots|  1200|  China|\n|  Beans|  1500|  China|\n| Orange|  4000|  China|\n| Banana|  2000| Canada|\n|Carrots|  2000| Canada|\n|  Beans|  2000| Mexico|\n+-------+------+-------+\n\n"
     ]
    }
   ],
   "source": [
    "df.show()"
   ]
  },
  {
   "cell_type": "markdown",
   "metadata": {
    "application/vnd.databricks.v1+cell": {
     "cellMetadata": {},
     "inputWidgets": {},
     "nuid": "f8bb1c61-4d2e-406c-8944-12d2d590fa6e",
     "showTitle": false,
     "title": ""
    }
   },
   "source": [
    "#### Pivot DataFrame"
   ]
  },
  {
   "cell_type": "code",
   "execution_count": 0,
   "metadata": {
    "application/vnd.databricks.v1+cell": {
     "cellMetadata": {
      "byteLimit": 2048000,
      "rowLimit": 10000
     },
     "inputWidgets": {},
     "nuid": "bb540583-02bd-485d-b3e3-099315190b02",
     "showTitle": false,
     "title": ""
    }
   },
   "outputs": [
    {
     "output_type": "stream",
     "name": "stdout",
     "output_type": "stream",
     "text": [
      "+-------+------+-----+------+----+\n|Product|Canada|China|Mexico| USA|\n+-------+------+-----+------+----+\n| Orange|  null| 4000|  null|4000|\n|  Beans|  null| 1500|  2000|1600|\n| Banana|  2000|  400|  null|1000|\n|Carrots|  2000| 1200|  null|1500|\n+-------+------+-----+------+----+\n\n"
     ]
    }
   ],
   "source": [
    "# The column in the groupBy is created as the first column with its rows as values\n",
    "# The Pivot column is spread as the columns and\n",
    "# Sum is the aggregate value of each column and corresponding rows\n",
    "pivotDF=df.groupBy(\"Product\")\\\n",
    "    .pivot(\"Country\")\\\n",
    "        .sum(\"Amount\")\n",
    "pivotDF.show()"
   ]
  },
  {
   "cell_type": "code",
   "execution_count": 0,
   "metadata": {
    "application/vnd.databricks.v1+cell": {
     "cellMetadata": {
      "byteLimit": 2048000,
      "rowLimit": 10000
     },
     "inputWidgets": {},
     "nuid": "b6f9a137-c615-471e-b688-0a782f5865ea",
     "showTitle": false,
     "title": ""
    }
   },
   "outputs": [
    {
     "output_type": "stream",
     "name": "stdout",
     "output_type": "stream",
     "text": [
      "+-------+------+-----+-------+------+\n|Country|Banana|Beans|Carrots|Orange|\n+-------+------+-----+-------+------+\n|  China|   400| 1500|   1200|  4000|\n|    USA|  1000| 1600|   1500|  4000|\n| Mexico|  null| 2000|   null|  null|\n| Canada|  2000| null|   2000|  null|\n+-------+------+-----+-------+------+\n\n"
     ]
    }
   ],
   "source": [
    "pivotDF=df.groupBy(\"Country\")\\\n",
    "    .pivot(\"Product\")\\\n",
    "        .sum(\"Amount\")\n",
    "pivotDF.show()"
   ]
  },
  {
   "cell_type": "code",
   "execution_count": 0,
   "metadata": {
    "application/vnd.databricks.v1+cell": {
     "cellMetadata": {
      "byteLimit": 2048000,
      "rowLimit": 10000
     },
     "inputWidgets": {},
     "nuid": "0a960f73-7c2e-4f14-87e9-0362c791f554",
     "showTitle": false,
     "title": ""
    }
   },
   "outputs": [
    {
     "output_type": "stream",
     "name": "stdout",
     "output_type": "stream",
     "text": [
      "+-------+----+-----+------+------+\n|Product| USA|China|Mexico|Canada|\n+-------+----+-----+------+------+\n| Orange|4000| 4000|  null|  null|\n|  Beans|1600| 1500|  2000|  null|\n| Banana|1000|  400|  null|  2000|\n|Carrots|1500| 1200|  null|  2000|\n+-------+----+-----+------+------+\n\n"
     ]
    }
   ],
   "source": [
    "# We can choose the list order to print accordingly as columns\n",
    "countries=['USA','China','Mexico','Canada']\n",
    "pivotDF=df.groupBy(\"Product\")\\\n",
    "    .pivot('Country',countries)\\\n",
    "    .sum(\"Amount\")\n",
    "pivotDF.show()"
   ]
  },
  {
   "cell_type": "code",
   "execution_count": 0,
   "metadata": {
    "application/vnd.databricks.v1+cell": {
     "cellMetadata": {
      "byteLimit": 2048000,
      "rowLimit": 10000
     },
     "inputWidgets": {},
     "nuid": "781cefab-c6e3-4686-9b78-efb0f6dbf413",
     "showTitle": false,
     "title": ""
    }
   },
   "outputs": [
    {
     "output_type": "stream",
     "name": "stdout",
     "output_type": "stream",
     "text": [
      "+-------+------+-----+------+----+\n|Product|Canada|China|Mexico|USA |\n+-------+------+-----+------+----+\n|Orange |null  |4000 |null  |4000|\n|Beans  |null  |1500 |2000  |1600|\n|Banana |2000  |400  |null  |1000|\n|Carrots|2000  |1200 |null  |1500|\n+-------+------+-----+------+----+\n\n"
     ]
    }
   ],
   "source": [
    "pivotDF = df.groupBy(\"Product\",\"Country\") \\\n",
    "      .sum(\"Amount\") \\\n",
    "      .groupBy(\"Product\") \\\n",
    "      .pivot(\"Country\") \\\n",
    "      .sum(\"sum(Amount)\") \n",
    "pivotDF.show(truncate=False)"
   ]
  },
  {
   "cell_type": "code",
   "execution_count": 0,
   "metadata": {
    "application/vnd.databricks.v1+cell": {
     "cellMetadata": {},
     "inputWidgets": {},
     "nuid": "db2fbd26-b757-43e4-a491-31b4b96eb27a",
     "showTitle": false,
     "title": ""
    }
   },
   "outputs": [],
   "source": [
    "-------+------+-----+------+----+\n",
    "|Product|Canada|China|Mexico| USA|\n",
    "+-------+------+-----+------+----+\n",
    "| Orange|  null| 4000|  null|4000|\n",
    "|  Beans|  null| 1500|  2000|1600|\n",
    "| Banana|  2000|  400|  null|1000|\n",
    "|Carrots|  2000| 1200|  null|1500|\n",
    "+-------+------+-----+------+----+"
   ]
  },
  {
   "cell_type": "markdown",
   "metadata": {
    "application/vnd.databricks.v1+cell": {
     "cellMetadata": {},
     "inputWidgets": {},
     "nuid": "1ef852c0-1123-43c9-9e36-d1bb61d00cd5",
     "showTitle": false,
     "title": ""
    }
   },
   "source": [
    "#### Unpivot DataFrame"
   ]
  },
  {
   "cell_type": "code",
   "execution_count": 0,
   "metadata": {
    "application/vnd.databricks.v1+cell": {
     "cellMetadata": {
      "byteLimit": 2048000,
      "rowLimit": 10000
     },
     "inputWidgets": {},
     "nuid": "191f71cc-85fc-43b9-aad3-18efdb533b25",
     "showTitle": false,
     "title": ""
    }
   },
   "outputs": [
    {
     "output_type": "stream",
     "name": "stdout",
     "output_type": "stream",
     "text": [
      "+-------+-------+-----+\n|Product|Country|Total|\n+-------+-------+-----+\n| Orange|   Cana| null|\n| Orange| Mexico| null|\n|  Beans|   Cana| null|\n|  Beans| Mexico| 2000|\n| Banana|   Cana| 2000|\n| Banana| Mexico| null|\n|Carrots|   Cana| 2000|\n|Carrots| Mexico| null|\n+-------+-------+-----+\n\n"
     ]
    }
   ],
   "source": [
    "from pyspark.sql.functions import expr\n",
    "unpivotExpr=\"stack(2,'Cana',Canada,'Mexico',Mexico) as (Country,Total)\"\n",
    "unpivotDF=pivotDF.select(\"Product\",expr(unpivotExpr))\n",
    "unpivotDF.show()"
   ]
  },
  {
   "cell_type": "code",
   "execution_count": 0,
   "metadata": {
    "application/vnd.databricks.v1+cell": {
     "cellMetadata": {
      "byteLimit": 2048000,
      "rowLimit": 10000
     },
     "inputWidgets": {},
     "nuid": "9d3ef243-903e-46ec-a0b1-c70b2d237624",
     "showTitle": false,
     "title": ""
    }
   },
   "outputs": [
    {
     "output_type": "stream",
     "name": "stdout",
     "output_type": "stream",
     "text": [
      "+-------+-------+-----+\n|Product|Country|Total|\n+-------+-------+-----+\n|  Beans| Mexico| 2000|\n| Banana|   Cana| 2000|\n|Carrots|   Cana| 2000|\n+-------+-------+-----+\n\n"
     ]
    }
   ],
   "source": [
    "#Printing Only not null values\n",
    "from pyspark.sql.functions import expr\n",
    "unpivotExpr = \"stack(2, 'Cana', Canada, 'Mexico', Mexico) as (Country, Total)\"\n",
    "unpivotDF = pivotDF.select(\"Product\", expr(unpivotExpr)).where(\"Total is not Null\")\n",
    "unpivotDF.show()"
   ]
  }
 ],
 "metadata": {
  "application/vnd.databricks.v1+notebook": {
   "dashboards": [],
   "environmentMetadata": null,
   "language": "python",
   "notebookMetadata": {
    "pythonIndentUnit": 4
   },
   "notebookName": "Pyspark Pivot and Unpivot",
   "widgets": {}
  }
 },
 "nbformat": 4,
 "nbformat_minor": 0
}
