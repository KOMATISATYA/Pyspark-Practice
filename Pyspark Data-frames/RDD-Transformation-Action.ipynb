{
 "cells": [
  {
   "cell_type": "code",
   "execution_count": 0,
   "metadata": {
    "application/vnd.databricks.v1+cell": {
     "cellMetadata": {
      "byteLimit": 2048000,
      "rowLimit": 10000
     },
     "inputWidgets": {},
     "nuid": "03f3fed0-2442-41ba-9363-54a54d35c72c",
     "showTitle": false,
     "title": ""
    }
   },
   "outputs": [],
   "source": [
    "import os\n",
    "import sys\n",
    "os.environ['PYSPARK_PYTHON'] = sys.executable\n",
    "os.environ['PYSPARK_DRIVER_PYTHON'] = sys.executable"
   ]
  },
  {
   "cell_type": "code",
   "execution_count": 0,
   "metadata": {
    "application/vnd.databricks.v1+cell": {
     "cellMetadata": {
      "byteLimit": 2048000,
      "rowLimit": 10000
     },
     "inputWidgets": {},
     "nuid": "bd756fad-f9b7-499c-beee-1027a056599f",
     "showTitle": false,
     "title": ""
    }
   },
   "outputs": [],
   "source": [
    "from pyspark.sql import SparkSession\n",
    "spark = SparkSession.builder\\\n",
    ".master('local[1]')\\\n",
    ".appName('SparkSession')\\\n",
    ".getOrCreate()"
   ]
  },
  {
   "cell_type": "markdown",
   "metadata": {
    "application/vnd.databricks.v1+cell": {
     "cellMetadata": {},
     "inputWidgets": {},
     "nuid": "fed47e45-4fab-44c1-8b31-43436c86d855",
     "showTitle": false,
     "title": ""
    }
   },
   "source": [
    "#### Reading RDD"
   ]
  },
  {
   "cell_type": "code",
   "execution_count": 0,
   "metadata": {
    "application/vnd.databricks.v1+cell": {
     "cellMetadata": {
      "byteLimit": 2048000,
      "rowLimit": 10000
     },
     "inputWidgets": {},
     "nuid": "a11c6cd1-30e5-4428-990c-78617845f3cb",
     "showTitle": false,
     "title": ""
    }
   },
   "outputs": [],
   "source": [
    "rdd=spark.sparkContext.textFile(\"dbfs:/FileStore/shared_uploads/komatisatya1729@gmail.com/test-1.txt\")"
   ]
  },
  {
   "cell_type": "markdown",
   "metadata": {
    "application/vnd.databricks.v1+cell": {
     "cellMetadata": {},
     "inputWidgets": {},
     "nuid": "85a296cc-7b52-4552-9d33-4a4378b694c3",
     "showTitle": false,
     "title": ""
    }
   },
   "source": [
    "#### flatMap()"
   ]
  },
  {
   "cell_type": "code",
   "execution_count": 0,
   "metadata": {
    "application/vnd.databricks.v1+cell": {
     "cellMetadata": {
      "byteLimit": 2048000,
      "rowLimit": 10000
     },
     "inputWidgets": {},
     "nuid": "cb9bbfce-8471-42d7-af73-fdadd0d51b87",
     "showTitle": false,
     "title": ""
    }
   },
   "outputs": [],
   "source": [
    "rdd2 = rdd.flatMap(lambda x : x.split(\" \"))"
   ]
  },
  {
   "cell_type": "code",
   "execution_count": 0,
   "metadata": {
    "application/vnd.databricks.v1+cell": {
     "cellMetadata": {
      "byteLimit": 2048000,
      "rowLimit": 10000
     },
     "inputWidgets": {},
     "nuid": "7d7d1000-393c-4838-bb7e-45ffd2748ae5",
     "showTitle": false,
     "title": ""
    }
   },
   "outputs": [
    {
     "output_type": "stream",
     "name": "stdout",
     "output_type": "stream",
     "text": [
      "Out[6]: ['Project',\n 'Gutenberg’s',\n 'Alice’s',\n 'Adventures',\n 'in',\n 'Wonderland',\n 'by',\n 'Lewis',\n 'Carroll',\n 'This',\n 'eBook',\n 'is',\n 'for',\n 'the',\n 'use',\n 'of',\n 'anyone',\n 'anywhere',\n 'at',\n 'no',\n 'cost',\n 'and',\n 'with',\n 'Alice’s',\n 'Adventures',\n 'in',\n 'Wonderland',\n 'by',\n 'Lewis',\n 'Carroll',\n 'This',\n 'eBook',\n 'is',\n 'for',\n 'the',\n 'use',\n 'of',\n 'anyone',\n 'anywhere',\n 'at',\n 'no',\n 'cost',\n 'and',\n 'with',\n 'This',\n 'eBook',\n 'is',\n 'for',\n 'the',\n 'use',\n 'of',\n 'anyone',\n 'anywhere',\n 'at',\n 'no',\n 'cost',\n 'and',\n 'with',\n 'Project',\n 'Gutenberg’s',\n 'Alice’s',\n 'Adventures',\n 'in',\n 'Wonderland',\n 'by',\n 'Lewis',\n 'Carroll',\n 'This',\n 'eBook',\n 'is',\n 'for',\n 'the',\n 'use',\n 'of',\n 'anyone',\n 'anywhere',\n 'at',\n 'no',\n 'cost',\n 'and',\n 'with',\n 'Alice’s',\n 'Adventures',\n 'in',\n 'Wonderland',\n 'by',\n 'Lewis',\n 'Carroll',\n 'This',\n 'eBook',\n 'is',\n 'for',\n 'the',\n 'use',\n 'of',\n 'anyone',\n 'anywhere',\n 'at',\n 'no',\n 'cost',\n 'and',\n 'with',\n 'This',\n 'eBook',\n 'is',\n 'for',\n 'the',\n 'use',\n 'of',\n 'anyone',\n 'anywhere',\n 'at',\n 'no',\n 'cost',\n 'and',\n 'with',\n 'Project',\n 'Gutenberg’s',\n 'Alice’s',\n 'Adventures',\n 'in',\n 'Wonderland',\n 'by',\n 'Lewis',\n 'Carroll',\n 'This',\n 'eBook',\n 'is',\n 'for',\n 'the',\n 'use',\n 'of',\n 'anyone',\n 'anywhere',\n 'at',\n 'no',\n 'cost',\n 'and',\n 'with',\n 'Alice’s',\n 'Adventures',\n 'in',\n 'Wonderland',\n 'by',\n 'Lewis',\n 'Carroll',\n 'This',\n 'eBook',\n 'is',\n 'for',\n 'the',\n 'use',\n 'of',\n 'anyone',\n 'anywhere',\n 'at',\n 'no',\n 'cost',\n 'and',\n 'with',\n 'This',\n 'eBook',\n 'is',\n 'for',\n 'the',\n 'use',\n 'of',\n 'anyone',\n 'anywhere',\n 'at',\n 'no',\n 'cost',\n 'and',\n 'with',\n 'Project',\n 'Gutenberg’s',\n 'Alice’s',\n 'Adventures',\n 'in',\n 'Wonderland',\n 'by',\n 'Lewis',\n 'Carroll',\n 'This',\n 'eBook',\n 'is',\n 'for',\n 'the',\n 'use',\n 'of',\n 'anyone',\n 'anywhere',\n 'at',\n 'no',\n 'cost',\n 'and',\n 'with',\n 'Alice’s',\n 'Adventures',\n 'in',\n 'Wonderland',\n 'by',\n 'Lewis',\n 'Carroll',\n 'This',\n 'eBook',\n 'is',\n 'for',\n 'the',\n 'use',\n 'of',\n 'anyone',\n 'anywhere',\n 'at',\n 'no',\n 'cost',\n 'and',\n 'with',\n 'This',\n 'eBook',\n 'is',\n 'for',\n 'the',\n 'use',\n 'of',\n 'anyone',\n 'anywhere',\n 'at',\n 'no',\n 'cost',\n 'and',\n 'with',\n 'Project',\n 'Gutenberg’s',\n 'Alice’s',\n 'Adventures',\n 'in',\n 'Wonderland',\n 'by',\n 'Lewis',\n 'Carroll',\n 'This',\n 'eBook',\n 'is',\n 'for',\n 'the',\n 'use',\n 'of',\n 'anyone',\n 'anywhere',\n 'at',\n 'no',\n 'cost',\n 'and',\n 'with',\n 'Alice’s',\n 'Adventures',\n 'in',\n 'Wonderland',\n 'by',\n 'Lewis',\n 'Carroll',\n 'This',\n 'eBook',\n 'is',\n 'for',\n 'the',\n 'use',\n 'of',\n 'anyone',\n 'anywhere',\n 'at',\n 'no',\n 'cost',\n 'and',\n 'with',\n 'This',\n 'eBook',\n 'is',\n 'for',\n 'the',\n 'use',\n 'of',\n 'anyone',\n 'anywhere',\n 'at',\n 'no',\n 'cost',\n 'and',\n 'with',\n 'Project',\n 'Gutenberg’s',\n 'Alice’s',\n 'Adventures',\n 'in',\n 'Wonderland',\n 'by',\n 'Lewis',\n 'Carroll',\n 'This',\n 'eBook',\n 'is',\n 'for',\n 'the',\n 'use',\n 'of',\n 'anyone',\n 'anywhere',\n 'at',\n 'no',\n 'cost',\n 'and',\n 'with',\n 'Alice’s',\n 'Adventures',\n 'in',\n 'Wonderland',\n 'by',\n 'Lewis',\n 'Carroll',\n 'This',\n 'eBook',\n 'is',\n 'for',\n 'the',\n 'use',\n 'of',\n 'anyone',\n 'anywhere',\n 'at',\n 'no',\n 'cost',\n 'and',\n 'with',\n 'This',\n 'eBook',\n 'is',\n 'for',\n 'the',\n 'use',\n 'of',\n 'anyone',\n 'anywhere',\n 'at',\n 'no',\n 'cost',\n 'and',\n 'with',\n 'Project',\n 'Gutenberg’s',\n 'Alice’s',\n 'Adventures',\n 'in',\n 'Wonderland',\n 'by',\n 'Lewis',\n 'Carroll',\n 'This',\n 'eBook',\n 'is',\n 'for',\n 'the',\n 'use',\n 'of',\n 'anyone',\n 'anywhere',\n 'at',\n 'no',\n 'cost',\n 'and',\n 'with',\n 'Alice’s',\n 'Adventures',\n 'in',\n 'Wonderland',\n 'by',\n 'Lewis',\n 'Carroll',\n 'This',\n 'eBook',\n 'is',\n 'for',\n 'the',\n 'use',\n 'of',\n 'anyone',\n 'anywhere',\n 'at',\n 'no',\n 'cost',\n 'and',\n 'with',\n 'This',\n 'eBook',\n 'is',\n 'for',\n 'the',\n 'use',\n 'of',\n 'anyone',\n 'anywhere',\n 'at',\n 'no',\n 'cost',\n 'and',\n 'with',\n 'Project',\n 'Gutenberg’s',\n 'Alice’s',\n 'Adventures',\n 'in',\n 'Wonderland',\n 'by',\n 'Lewis',\n 'Carroll',\n 'This',\n 'eBook',\n 'is',\n 'for',\n 'the',\n 'use',\n 'of',\n 'anyone',\n 'anywhere',\n 'at',\n 'no',\n 'cost',\n 'and',\n 'with',\n 'Alice’s',\n 'Adventures',\n 'in',\n 'Wonderland',\n 'by',\n 'Lewis',\n 'Carroll',\n 'This',\n 'eBook',\n 'is',\n 'for',\n 'the',\n 'use',\n 'of',\n 'anyone',\n 'anywhere',\n 'at',\n 'no',\n 'cost',\n 'and',\n 'with',\n 'This',\n 'eBook',\n 'is',\n 'for',\n 'the',\n 'use',\n 'of',\n 'anyone',\n 'anywhere',\n 'at',\n 'no',\n 'cost',\n 'and',\n 'with',\n 'Project',\n 'Gutenberg’s',\n 'Alice’s',\n 'Adventures',\n 'in',\n 'Wonderland',\n 'by',\n 'Lewis',\n 'Carroll',\n 'This',\n 'eBook',\n 'is',\n 'for',\n 'the',\n 'use',\n 'of',\n 'anyone',\n 'anywhere',\n 'at',\n 'no',\n 'cost',\n 'and',\n 'with',\n 'Alice’s',\n 'Adventures',\n 'in',\n 'Wonderland',\n 'by',\n 'Lewis',\n 'Carroll',\n 'This',\n 'eBook',\n 'is',\n 'for',\n 'the',\n 'use',\n 'of',\n 'anyone',\n 'anywhere',\n 'at',\n 'no',\n 'cost',\n 'and',\n 'with',\n 'This',\n 'eBook',\n 'is',\n 'for',\n 'the',\n 'use',\n 'of',\n 'anyone',\n 'anywhere',\n 'at',\n 'no',\n 'cost',\n 'and',\n 'with']"
     ]
    }
   ],
   "source": [
    "rdd2.collect()"
   ]
  },
  {
   "cell_type": "markdown",
   "metadata": {
    "application/vnd.databricks.v1+cell": {
     "cellMetadata": {},
     "inputWidgets": {},
     "nuid": "92014537-41fd-44c8-9abb-d3c5d292cbc3",
     "showTitle": false,
     "title": ""
    }
   },
   "source": [
    "#### map()"
   ]
  },
  {
   "cell_type": "code",
   "execution_count": 0,
   "metadata": {
    "application/vnd.databricks.v1+cell": {
     "cellMetadata": {
      "byteLimit": 2048000,
      "rowLimit": 10000
     },
     "inputWidgets": {},
     "nuid": "7e11e0ba-b014-4e01-a5ac-05f05fffff6a",
     "showTitle": false,
     "title": ""
    }
   },
   "outputs": [],
   "source": [
    "rdd3=rdd2.map(lambda x : (x,1))"
   ]
  },
  {
   "cell_type": "code",
   "execution_count": 0,
   "metadata": {
    "application/vnd.databricks.v1+cell": {
     "cellMetadata": {
      "byteLimit": 2048000,
      "rowLimit": 10000
     },
     "inputWidgets": {},
     "nuid": "e3ed9727-21fb-445a-b43b-531c208c0b7d",
     "showTitle": false,
     "title": ""
    }
   },
   "outputs": [
    {
     "output_type": "stream",
     "name": "stdout",
     "output_type": "stream",
     "text": [
      "Out[8]: [('Project', 1),\n ('Gutenberg’s', 1),\n ('Alice’s', 1),\n ('Adventures', 1),\n ('in', 1),\n ('Wonderland', 1),\n ('by', 1),\n ('Lewis', 1),\n ('Carroll', 1),\n ('This', 1),\n ('eBook', 1),\n ('is', 1),\n ('for', 1),\n ('the', 1),\n ('use', 1),\n ('of', 1),\n ('anyone', 1),\n ('anywhere', 1),\n ('at', 1),\n ('no', 1),\n ('cost', 1),\n ('and', 1),\n ('with', 1),\n ('Alice’s', 1),\n ('Adventures', 1),\n ('in', 1),\n ('Wonderland', 1),\n ('by', 1),\n ('Lewis', 1),\n ('Carroll', 1),\n ('This', 1),\n ('eBook', 1),\n ('is', 1),\n ('for', 1),\n ('the', 1),\n ('use', 1),\n ('of', 1),\n ('anyone', 1),\n ('anywhere', 1),\n ('at', 1),\n ('no', 1),\n ('cost', 1),\n ('and', 1),\n ('with', 1),\n ('This', 1),\n ('eBook', 1),\n ('is', 1),\n ('for', 1),\n ('the', 1),\n ('use', 1),\n ('of', 1),\n ('anyone', 1),\n ('anywhere', 1),\n ('at', 1),\n ('no', 1),\n ('cost', 1),\n ('and', 1),\n ('with', 1),\n ('Project', 1),\n ('Gutenberg’s', 1),\n ('Alice’s', 1),\n ('Adventures', 1),\n ('in', 1),\n ('Wonderland', 1),\n ('by', 1),\n ('Lewis', 1),\n ('Carroll', 1),\n ('This', 1),\n ('eBook', 1),\n ('is', 1),\n ('for', 1),\n ('the', 1),\n ('use', 1),\n ('of', 1),\n ('anyone', 1),\n ('anywhere', 1),\n ('at', 1),\n ('no', 1),\n ('cost', 1),\n ('and', 1),\n ('with', 1),\n ('Alice’s', 1),\n ('Adventures', 1),\n ('in', 1),\n ('Wonderland', 1),\n ('by', 1),\n ('Lewis', 1),\n ('Carroll', 1),\n ('This', 1),\n ('eBook', 1),\n ('is', 1),\n ('for', 1),\n ('the', 1),\n ('use', 1),\n ('of', 1),\n ('anyone', 1),\n ('anywhere', 1),\n ('at', 1),\n ('no', 1),\n ('cost', 1),\n ('and', 1),\n ('with', 1),\n ('This', 1),\n ('eBook', 1),\n ('is', 1),\n ('for', 1),\n ('the', 1),\n ('use', 1),\n ('of', 1),\n ('anyone', 1),\n ('anywhere', 1),\n ('at', 1),\n ('no', 1),\n ('cost', 1),\n ('and', 1),\n ('with', 1),\n ('Project', 1),\n ('Gutenberg’s', 1),\n ('Alice’s', 1),\n ('Adventures', 1),\n ('in', 1),\n ('Wonderland', 1),\n ('by', 1),\n ('Lewis', 1),\n ('Carroll', 1),\n ('This', 1),\n ('eBook', 1),\n ('is', 1),\n ('for', 1),\n ('the', 1),\n ('use', 1),\n ('of', 1),\n ('anyone', 1),\n ('anywhere', 1),\n ('at', 1),\n ('no', 1),\n ('cost', 1),\n ('and', 1),\n ('with', 1),\n ('Alice’s', 1),\n ('Adventures', 1),\n ('in', 1),\n ('Wonderland', 1),\n ('by', 1),\n ('Lewis', 1),\n ('Carroll', 1),\n ('This', 1),\n ('eBook', 1),\n ('is', 1),\n ('for', 1),\n ('the', 1),\n ('use', 1),\n ('of', 1),\n ('anyone', 1),\n ('anywhere', 1),\n ('at', 1),\n ('no', 1),\n ('cost', 1),\n ('and', 1),\n ('with', 1),\n ('This', 1),\n ('eBook', 1),\n ('is', 1),\n ('for', 1),\n ('the', 1),\n ('use', 1),\n ('of', 1),\n ('anyone', 1),\n ('anywhere', 1),\n ('at', 1),\n ('no', 1),\n ('cost', 1),\n ('and', 1),\n ('with', 1),\n ('Project', 1),\n ('Gutenberg’s', 1),\n ('Alice’s', 1),\n ('Adventures', 1),\n ('in', 1),\n ('Wonderland', 1),\n ('by', 1),\n ('Lewis', 1),\n ('Carroll', 1),\n ('This', 1),\n ('eBook', 1),\n ('is', 1),\n ('for', 1),\n ('the', 1),\n ('use', 1),\n ('of', 1),\n ('anyone', 1),\n ('anywhere', 1),\n ('at', 1),\n ('no', 1),\n ('cost', 1),\n ('and', 1),\n ('with', 1),\n ('Alice’s', 1),\n ('Adventures', 1),\n ('in', 1),\n ('Wonderland', 1),\n ('by', 1),\n ('Lewis', 1),\n ('Carroll', 1),\n ('This', 1),\n ('eBook', 1),\n ('is', 1),\n ('for', 1),\n ('the', 1),\n ('use', 1),\n ('of', 1),\n ('anyone', 1),\n ('anywhere', 1),\n ('at', 1),\n ('no', 1),\n ('cost', 1),\n ('and', 1),\n ('with', 1),\n ('This', 1),\n ('eBook', 1),\n ('is', 1),\n ('for', 1),\n ('the', 1),\n ('use', 1),\n ('of', 1),\n ('anyone', 1),\n ('anywhere', 1),\n ('at', 1),\n ('no', 1),\n ('cost', 1),\n ('and', 1),\n ('with', 1),\n ('Project', 1),\n ('Gutenberg’s', 1),\n ('Alice’s', 1),\n ('Adventures', 1),\n ('in', 1),\n ('Wonderland', 1),\n ('by', 1),\n ('Lewis', 1),\n ('Carroll', 1),\n ('This', 1),\n ('eBook', 1),\n ('is', 1),\n ('for', 1),\n ('the', 1),\n ('use', 1),\n ('of', 1),\n ('anyone', 1),\n ('anywhere', 1),\n ('at', 1),\n ('no', 1),\n ('cost', 1),\n ('and', 1),\n ('with', 1),\n ('Alice’s', 1),\n ('Adventures', 1),\n ('in', 1),\n ('Wonderland', 1),\n ('by', 1),\n ('Lewis', 1),\n ('Carroll', 1),\n ('This', 1),\n ('eBook', 1),\n ('is', 1),\n ('for', 1),\n ('the', 1),\n ('use', 1),\n ('of', 1),\n ('anyone', 1),\n ('anywhere', 1),\n ('at', 1),\n ('no', 1),\n ('cost', 1),\n ('and', 1),\n ('with', 1),\n ('This', 1),\n ('eBook', 1),\n ('is', 1),\n ('for', 1),\n ('the', 1),\n ('use', 1),\n ('of', 1),\n ('anyone', 1),\n ('anywhere', 1),\n ('at', 1),\n ('no', 1),\n ('cost', 1),\n ('and', 1),\n ('with', 1),\n ('Project', 1),\n ('Gutenberg’s', 1),\n ('Alice’s', 1),\n ('Adventures', 1),\n ('in', 1),\n ('Wonderland', 1),\n ('by', 1),\n ('Lewis', 1),\n ('Carroll', 1),\n ('This', 1),\n ('eBook', 1),\n ('is', 1),\n ('for', 1),\n ('the', 1),\n ('use', 1),\n ('of', 1),\n ('anyone', 1),\n ('anywhere', 1),\n ('at', 1),\n ('no', 1),\n ('cost', 1),\n ('and', 1),\n ('with', 1),\n ('Alice’s', 1),\n ('Adventures', 1),\n ('in', 1),\n ('Wonderland', 1),\n ('by', 1),\n ('Lewis', 1),\n ('Carroll', 1),\n ('This', 1),\n ('eBook', 1),\n ('is', 1),\n ('for', 1),\n ('the', 1),\n ('use', 1),\n ('of', 1),\n ('anyone', 1),\n ('anywhere', 1),\n ('at', 1),\n ('no', 1),\n ('cost', 1),\n ('and', 1),\n ('with', 1),\n ('This', 1),\n ('eBook', 1),\n ('is', 1),\n ('for', 1),\n ('the', 1),\n ('use', 1),\n ('of', 1),\n ('anyone', 1),\n ('anywhere', 1),\n ('at', 1),\n ('no', 1),\n ('cost', 1),\n ('and', 1),\n ('with', 1),\n ('Project', 1),\n ('Gutenberg’s', 1),\n ('Alice’s', 1),\n ('Adventures', 1),\n ('in', 1),\n ('Wonderland', 1),\n ('by', 1),\n ('Lewis', 1),\n ('Carroll', 1),\n ('This', 1),\n ('eBook', 1),\n ('is', 1),\n ('for', 1),\n ('the', 1),\n ('use', 1),\n ('of', 1),\n ('anyone', 1),\n ('anywhere', 1),\n ('at', 1),\n ('no', 1),\n ('cost', 1),\n ('and', 1),\n ('with', 1),\n ('Alice’s', 1),\n ('Adventures', 1),\n ('in', 1),\n ('Wonderland', 1),\n ('by', 1),\n ('Lewis', 1),\n ('Carroll', 1),\n ('This', 1),\n ('eBook', 1),\n ('is', 1),\n ('for', 1),\n ('the', 1),\n ('use', 1),\n ('of', 1),\n ('anyone', 1),\n ('anywhere', 1),\n ('at', 1),\n ('no', 1),\n ('cost', 1),\n ('and', 1),\n ('with', 1),\n ('This', 1),\n ('eBook', 1),\n ('is', 1),\n ('for', 1),\n ('the', 1),\n ('use', 1),\n ('of', 1),\n ('anyone', 1),\n ('anywhere', 1),\n ('at', 1),\n ('no', 1),\n ('cost', 1),\n ('and', 1),\n ('with', 1),\n ('Project', 1),\n ('Gutenberg’s', 1),\n ('Alice’s', 1),\n ('Adventures', 1),\n ('in', 1),\n ('Wonderland', 1),\n ('by', 1),\n ('Lewis', 1),\n ('Carroll', 1),\n ('This', 1),\n ('eBook', 1),\n ('is', 1),\n ('for', 1),\n ('the', 1),\n ('use', 1),\n ('of', 1),\n ('anyone', 1),\n ('anywhere', 1),\n ('at', 1),\n ('no', 1),\n ('cost', 1),\n ('and', 1),\n ('with', 1),\n ('Alice’s', 1),\n ('Adventures', 1),\n ('in', 1),\n ('Wonderland', 1),\n ('by', 1),\n ('Lewis', 1),\n ('Carroll', 1),\n ('This', 1),\n ('eBook', 1),\n ('is', 1),\n ('for', 1),\n ('the', 1),\n ('use', 1),\n ('of', 1),\n ('anyone', 1),\n ('anywhere', 1),\n ('at', 1),\n ('no', 1),\n ('cost', 1),\n ('and', 1),\n ('with', 1),\n ('This', 1),\n ('eBook', 1),\n ('is', 1),\n ('for', 1),\n ('the', 1),\n ('use', 1),\n ('of', 1),\n ('anyone', 1),\n ('anywhere', 1),\n ('at', 1),\n ('no', 1),\n ('cost', 1),\n ('and', 1),\n ('with', 1),\n ('Project', 1),\n ('Gutenberg’s', 1),\n ('Alice’s', 1),\n ('Adventures', 1),\n ('in', 1),\n ('Wonderland', 1),\n ('by', 1),\n ('Lewis', 1),\n ('Carroll', 1),\n ('This', 1),\n ('eBook', 1),\n ('is', 1),\n ('for', 1),\n ('the', 1),\n ('use', 1),\n ('of', 1),\n ('anyone', 1),\n ('anywhere', 1),\n ('at', 1),\n ('no', 1),\n ('cost', 1),\n ('and', 1),\n ('with', 1),\n ('Alice’s', 1),\n ('Adventures', 1),\n ('in', 1),\n ('Wonderland', 1),\n ('by', 1),\n ('Lewis', 1),\n ('Carroll', 1),\n ('This', 1),\n ('eBook', 1),\n ('is', 1),\n ('for', 1),\n ('the', 1),\n ('use', 1),\n ('of', 1),\n ('anyone', 1),\n ('anywhere', 1),\n ('at', 1),\n ('no', 1),\n ('cost', 1),\n ('and', 1),\n ('with', 1),\n ('This', 1),\n ('eBook', 1),\n ('is', 1),\n ('for', 1),\n ('the', 1),\n ('use', 1),\n ('of', 1),\n ('anyone', 1),\n ('anywhere', 1),\n ('at', 1),\n ('no', 1),\n ('cost', 1),\n ('and', 1),\n ('with', 1)]"
     ]
    }
   ],
   "source": [
    "rdd3.collect()"
   ]
  },
  {
   "cell_type": "markdown",
   "metadata": {
    "application/vnd.databricks.v1+cell": {
     "cellMetadata": {},
     "inputWidgets": {},
     "nuid": "c7a5dc94-dcba-40cb-94d8-7a80cea88432",
     "showTitle": false,
     "title": ""
    }
   },
   "source": [
    "#### reduceByKey()"
   ]
  },
  {
   "cell_type": "code",
   "execution_count": 0,
   "metadata": {
    "application/vnd.databricks.v1+cell": {
     "cellMetadata": {
      "byteLimit": 2048000,
      "rowLimit": 10000
     },
     "inputWidgets": {},
     "nuid": "fa301a0a-5977-4113-be52-2dda6d48f0c3",
     "showTitle": false,
     "title": ""
    }
   },
   "outputs": [],
   "source": [
    "rdd4 = rdd3.reduceByKey(lambda x, y: x+y)"
   ]
  },
  {
   "cell_type": "code",
   "execution_count": 0,
   "metadata": {
    "application/vnd.databricks.v1+cell": {
     "cellMetadata": {
      "byteLimit": 2048000,
      "rowLimit": 10000
     },
     "inputWidgets": {},
     "nuid": "bd7b7b96-28d4-4f11-be3b-eea08ffa869d",
     "showTitle": false,
     "title": ""
    }
   },
   "outputs": [
    {
     "output_type": "stream",
     "name": "stdout",
     "output_type": "stream",
     "text": [
      "Out[10]: [('Project', 9),\n ('Gutenberg’s', 9),\n ('Alice’s', 18),\n ('in', 18),\n ('Lewis', 18),\n ('Carroll', 18),\n ('is', 27),\n ('use', 27),\n ('of', 27),\n ('anyone', 27),\n ('anywhere', 27),\n ('at', 27),\n ('no', 27),\n ('Adventures', 18),\n ('Wonderland', 18),\n ('by', 18),\n ('This', 27),\n ('eBook', 27),\n ('for', 27),\n ('the', 27),\n ('cost', 27),\n ('and', 27),\n ('with', 27)]"
     ]
    }
   ],
   "source": [
    "rdd4.collect()"
   ]
  },
  {
   "cell_type": "markdown",
   "metadata": {
    "application/vnd.databricks.v1+cell": {
     "cellMetadata": {},
     "inputWidgets": {},
     "nuid": "bd176919-7819-48ad-803e-a8c3bfebdba0",
     "showTitle": false,
     "title": ""
    }
   },
   "source": [
    "#### sortByKey()"
   ]
  },
  {
   "cell_type": "code",
   "execution_count": 0,
   "metadata": {
    "application/vnd.databricks.v1+cell": {
     "cellMetadata": {
      "byteLimit": 2048000,
      "rowLimit": 10000
     },
     "inputWidgets": {},
     "nuid": "f8387df0-f4c0-4a29-9438-d6545de4b634",
     "showTitle": false,
     "title": ""
    }
   },
   "outputs": [
    {
     "output_type": "stream",
     "name": "stdout",
     "output_type": "stream",
     "text": [
      "[(9, 'Project'), (9, 'Gutenberg’s'), (18, 'Alice’s'), (18, 'in'), (18, 'Lewis'), (18, 'Carroll'), (18, 'Adventures'), (18, 'Wonderland'), (18, 'by'), (27, 'is'), (27, 'use'), (27, 'of'), (27, 'anyone'), (27, 'anywhere'), (27, 'at'), (27, 'no'), (27, 'This'), (27, 'eBook'), (27, 'for'), (27, 'the'), (27, 'cost'), (27, 'and'), (27, 'with')]\n"
     ]
    }
   ],
   "source": [
    "rdd5 = rdd4.map(lambda x : (x[1], x[0])).sortByKey()\n",
    "print(rdd5.collect())"
   ]
  },
  {
   "cell_type": "markdown",
   "metadata": {
    "application/vnd.databricks.v1+cell": {
     "cellMetadata": {},
     "inputWidgets": {},
     "nuid": "9c0f326c-0fe2-4ebb-b545-34ee7bccf7ce",
     "showTitle": false,
     "title": ""
    }
   },
   "source": [
    "#### filter()"
   ]
  },
  {
   "cell_type": "code",
   "execution_count": 0,
   "metadata": {
    "application/vnd.databricks.v1+cell": {
     "cellMetadata": {
      "byteLimit": 2048000,
      "rowLimit": 10000
     },
     "inputWidgets": {},
     "nuid": "e8e1376b-9574-4e00-9aa0-c5788456e165",
     "showTitle": false,
     "title": ""
    }
   },
   "outputs": [],
   "source": [
    "rdd6 = rdd5.filter(lambda x: 'any' in x[1])"
   ]
  },
  {
   "cell_type": "code",
   "execution_count": 0,
   "metadata": {
    "application/vnd.databricks.v1+cell": {
     "cellMetadata": {
      "byteLimit": 2048000,
      "rowLimit": 10000
     },
     "inputWidgets": {},
     "nuid": "ade1c984-777e-40c1-8427-2b65de0ac411",
     "showTitle": false,
     "title": ""
    }
   },
   "outputs": [
    {
     "output_type": "stream",
     "name": "stdout",
     "output_type": "stream",
     "text": [
      "[(27, 'anyone'), (27, 'anywhere')]\n"
     ]
    }
   ],
   "source": [
    "print(rdd6.collect())"
   ]
  },
  {
   "cell_type": "markdown",
   "metadata": {
    "application/vnd.databricks.v1+cell": {
     "cellMetadata": {},
     "inputWidgets": {},
     "nuid": "da6856aa-2f57-4f69-bffa-759aa79b130b",
     "showTitle": false,
     "title": ""
    }
   },
   "source": [
    "#### RDD Actions"
   ]
  },
  {
   "cell_type": "markdown",
   "metadata": {
    "application/vnd.databricks.v1+cell": {
     "cellMetadata": {},
     "inputWidgets": {},
     "nuid": "b019e592-9e28-4c96-9c4c-1d624b1410df",
     "showTitle": false,
     "title": ""
    }
   },
   "source": [
    "##### Count"
   ]
  },
  {
   "cell_type": "code",
   "execution_count": 0,
   "metadata": {
    "application/vnd.databricks.v1+cell": {
     "cellMetadata": {
      "byteLimit": 2048000,
      "rowLimit": 10000
     },
     "inputWidgets": {},
     "nuid": "41abe4f4-953b-4f07-bbb3-f77225a50d91",
     "showTitle": false,
     "title": ""
    }
   },
   "outputs": [
    {
     "output_type": "stream",
     "name": "stdout",
     "output_type": "stream",
     "text": [
      "Count : 23\n"
     ]
    }
   ],
   "source": [
    "rdd_count = rdd5.count()\n",
    "print(\"Count :\", rdd_count)"
   ]
  },
  {
   "cell_type": "markdown",
   "metadata": {
    "application/vnd.databricks.v1+cell": {
     "cellMetadata": {},
     "inputWidgets": {},
     "nuid": "ca499d04-fad0-4ddc-848b-286024778109",
     "showTitle": false,
     "title": ""
    }
   },
   "source": [
    "##### first()"
   ]
  },
  {
   "cell_type": "code",
   "execution_count": 0,
   "metadata": {
    "application/vnd.databricks.v1+cell": {
     "cellMetadata": {
      "byteLimit": 2048000,
      "rowLimit": 10000
     },
     "inputWidgets": {},
     "nuid": "bbb4e688-b664-4f7d-8d43-d3a8cd2d9efe",
     "showTitle": false,
     "title": ""
    }
   },
   "outputs": [
    {
     "output_type": "stream",
     "name": "stdout",
     "output_type": "stream",
     "text": [
      "First Record : 9 , Project\n"
     ]
    }
   ],
   "source": [
    "rdd_first = rdd5.first()\n",
    "print(\"First Record :\", str(rdd_first[0]), \",\",str(rdd_first[1]))"
   ]
  },
  {
   "cell_type": "markdown",
   "metadata": {
    "application/vnd.databricks.v1+cell": {
     "cellMetadata": {},
     "inputWidgets": {},
     "nuid": "5cb24651-c821-4e1d-ba3c-d9a83a2f20aa",
     "showTitle": false,
     "title": ""
    }
   },
   "source": [
    "##### max()"
   ]
  },
  {
   "cell_type": "code",
   "execution_count": 0,
   "metadata": {
    "application/vnd.databricks.v1+cell": {
     "cellMetadata": {
      "byteLimit": 2048000,
      "rowLimit": 10000
     },
     "inputWidgets": {},
     "nuid": "3835f6da-dc63-411d-aed6-47569c01918a",
     "showTitle": false,
     "title": ""
    }
   },
   "outputs": [
    {
     "output_type": "stream",
     "name": "stdout",
     "output_type": "stream",
     "text": [
      "The Max element: 27 , with\n"
     ]
    }
   ],
   "source": [
    "rdd_max = rdd5.max()\n",
    "print(\"The Max element:\", str(rdd_max[0]), \",\", str(rdd_max[1]))"
   ]
  },
  {
   "cell_type": "markdown",
   "metadata": {
    "application/vnd.databricks.v1+cell": {
     "cellMetadata": {},
     "inputWidgets": {},
     "nuid": "ca522758-98d6-4a01-ac63-e90f1fb1f57d",
     "showTitle": false,
     "title": ""
    }
   },
   "source": [
    "##### reduce()"
   ]
  },
  {
   "cell_type": "code",
   "execution_count": 0,
   "metadata": {
    "application/vnd.databricks.v1+cell": {
     "cellMetadata": {
      "byteLimit": 2048000,
      "rowLimit": 10000
     },
     "inputWidgets": {},
     "nuid": "ff42af17-222c-4b3b-bbef-c7ab25c72b0c",
     "showTitle": false,
     "title": ""
    }
   },
   "outputs": [
    {
     "output_type": "stream",
     "name": "stdout",
     "output_type": "stream",
     "text": [
      "522\n"
     ]
    }
   ],
   "source": [
    "total_count = rdd5.reduce(lambda a,b: (a[0]+b[0], a[1]))\n",
    "print(str(total_count[0]))"
   ]
  },
  {
   "cell_type": "markdown",
   "metadata": {
    "application/vnd.databricks.v1+cell": {
     "cellMetadata": {},
     "inputWidgets": {},
     "nuid": "d2b92626-1ab1-48c4-82af-2eab72a5d980",
     "showTitle": false,
     "title": ""
    }
   },
   "source": [
    "##### take"
   ]
  },
  {
   "cell_type": "code",
   "execution_count": 0,
   "metadata": {
    "application/vnd.databricks.v1+cell": {
     "cellMetadata": {
      "byteLimit": 2048000,
      "rowLimit": 10000
     },
     "inputWidgets": {},
     "nuid": "ed6820c3-f26a-403e-8be4-adb6ba15664a",
     "showTitle": false,
     "title": ""
    }
   },
   "outputs": [
    {
     "output_type": "stream",
     "name": "stdout",
     "output_type": "stream",
     "text": [
      "9 Project\n9 Gutenberg’s\n18 Alice’s\n"
     ]
    }
   ],
   "source": [
    "data3 = rdd5.take(3)\n",
    "for f in data3:\n",
    "    print(str(f[0]), f[1])"
   ]
  },
  {
   "cell_type": "code",
   "execution_count": 0,
   "metadata": {
    "application/vnd.databricks.v1+cell": {
     "cellMetadata": {},
     "inputWidgets": {},
     "nuid": "d768b1a8-30ca-4831-bb8f-28688bcb9520",
     "showTitle": false,
     "title": ""
    }
   },
   "outputs": [],
   "source": []
  }
 ],
 "metadata": {
  "application/vnd.databricks.v1+notebook": {
   "dashboards": [],
   "environmentMetadata": null,
   "language": "python",
   "notebookMetadata": {
    "pythonIndentUnit": 4
   },
   "notebookName": "RDD-Transformation-Action",
   "widgets": {}
  }
 },
 "nbformat": 4,
 "nbformat_minor": 0
}
