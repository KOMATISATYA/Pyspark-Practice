{
 "cells": [
  {
   "cell_type": "code",
   "execution_count": 0,
   "metadata": {
    "application/vnd.databricks.v1+cell": {
     "cellMetadata": {
      "byteLimit": 2048000,
      "rowLimit": 10000
     },
     "inputWidgets": {},
     "nuid": "cebd939c-3109-4488-a4de-6d7dbc9616fe",
     "showTitle": false,
     "title": ""
    }
   },
   "outputs": [],
   "source": [
    "import os \n",
    "import sys\n",
    "os.environ[\"PYSPARK_PYTHON\"] = sys.executable\n",
    "os.environ[\"PYSPARK_DRIVER_PYTHON\"] = sys.executable"
   ]
  },
  {
   "cell_type": "code",
   "execution_count": 0,
   "metadata": {
    "application/vnd.databricks.v1+cell": {
     "cellMetadata": {
      "byteLimit": 2048000,
      "rowLimit": 10000
     },
     "inputWidgets": {},
     "nuid": "38691906-f12a-440d-9f69-44ec75a02c9a",
     "showTitle": false,
     "title": ""
    }
   },
   "outputs": [],
   "source": [
    "from pyspark.sql import SparkSession\n",
    "spark = SparkSession.builder\\\n",
    "        .appName(\"Window Functions\")\\\n",
    "        .getOrCreate()"
   ]
  },
  {
   "cell_type": "code",
   "execution_count": 0,
   "metadata": {
    "application/vnd.databricks.v1+cell": {
     "cellMetadata": {
      "byteLimit": 2048000,
      "rowLimit": 10000
     },
     "inputWidgets": {},
     "nuid": "ec342bc1-7c40-4b25-bf00-fb72b7fb5d8a",
     "showTitle": false,
     "title": ""
    }
   },
   "outputs": [
    {
     "output_type": "stream",
     "name": "stdout",
     "output_type": "stream",
     "text": [
      "root\n |-- employee_name: string (nullable = true)\n |-- department: string (nullable = true)\n |-- salary: long (nullable = true)\n\n"
     ]
    }
   ],
   "source": [
    "simpleData = ((\"James\", \"Sales\", 3000), \\\n",
    "    (\"Michael\", \"Sales\", 4600),  \\\n",
    "    (\"Robert\", \"Sales\", 4100),   \\\n",
    "    (\"Maria\", \"Finance\", 3000),  \\\n",
    "    (\"James\", \"Sales\", 3000),    \\\n",
    "    (\"Scott\", \"Finance\", 3300),  \\\n",
    "    (\"Jen\", \"Finance\", 3900),    \\\n",
    "    (\"Jeff\", \"Marketing\", 3000), \\\n",
    "    (\"Kumar\", \"Marketing\", 2000),\\\n",
    "    (\"Saif\", \"Sales\", 4100), \\\n",
    "    (\"Ramesh\", \"Finance\", 4100) \\\n",
    "  )\n",
    " \n",
    "columns= [\"employee_name\", \"department\", \"salary\"]\n",
    "df = spark.createDataFrame(data = simpleData, schema = columns)\n",
    "df.printSchema()"
   ]
  },
  {
   "cell_type": "markdown",
   "metadata": {
    "application/vnd.databricks.v1+cell": {
     "cellMetadata": {},
     "inputWidgets": {},
     "nuid": "781a14ca-ae79-49be-8f4e-066c902e003b",
     "showTitle": false,
     "title": ""
    }
   },
   "source": [
    "### Window Ranking Functions"
   ]
  },
  {
   "cell_type": "markdown",
   "metadata": {
    "application/vnd.databricks.v1+cell": {
     "cellMetadata": {},
     "inputWidgets": {},
     "nuid": "90cb9525-b6df-4443-a86b-08c4f7c87d55",
     "showTitle": false,
     "title": ""
    }
   },
   "source": [
    "#### 1. row_number"
   ]
  },
  {
   "cell_type": "code",
   "execution_count": 0,
   "metadata": {
    "application/vnd.databricks.v1+cell": {
     "cellMetadata": {
      "byteLimit": 2048000,
      "rowLimit": 10000
     },
     "inputWidgets": {},
     "nuid": "32272312-9f2e-4179-9ca1-4dbab51eef14",
     "showTitle": false,
     "title": ""
    }
   },
   "outputs": [
    {
     "output_type": "stream",
     "name": "stdout",
     "output_type": "stream",
     "text": [
      "+-------------+----------+------+----------+\n|employee_name|department|salary|row_number|\n+-------------+----------+------+----------+\n|        Maria|   Finance|  3000|         1|\n|        Scott|   Finance|  3300|         2|\n|          Jen|   Finance|  3900|         3|\n|       Ramesh|   Finance|  4100|         4|\n|        Kumar| Marketing|  2000|         1|\n|         Jeff| Marketing|  3000|         2|\n|        James|     Sales|  3000|         1|\n|        James|     Sales|  3000|         2|\n|       Robert|     Sales|  4100|         3|\n|         Saif|     Sales|  4100|         4|\n|      Michael|     Sales|  4600|         5|\n+-------------+----------+------+----------+\n\n"
     ]
    }
   ],
   "source": [
    "from pyspark.sql.window import Window\n",
    "from pyspark.sql.functions import row_number\n",
    "window=Window.partitionBy(\"department\").orderBy(\"salary\")\n",
    "df.withColumn(\"row_number\",row_number().over(window)).show()"
   ]
  },
  {
   "cell_type": "markdown",
   "metadata": {
    "application/vnd.databricks.v1+cell": {
     "cellMetadata": {},
     "inputWidgets": {},
     "nuid": "6a8374e1-0bdc-4f08-b86f-09708d265abd",
     "showTitle": false,
     "title": ""
    }
   },
   "source": [
    "#### 2.rank()"
   ]
  },
  {
   "cell_type": "code",
   "execution_count": 0,
   "metadata": {
    "application/vnd.databricks.v1+cell": {
     "cellMetadata": {
      "byteLimit": 2048000,
      "rowLimit": 10000
     },
     "inputWidgets": {},
     "nuid": "32e9529d-b93a-4a73-b3f0-7e5d3cb4ae4d",
     "showTitle": false,
     "title": ""
    }
   },
   "outputs": [
    {
     "output_type": "stream",
     "name": "stdout",
     "output_type": "stream",
     "text": [
      "+-------------+----------+------+----+\n|employee_name|department|salary|rank|\n+-------------+----------+------+----+\n|Maria        |Finance   |3000  |1   |\n|Scott        |Finance   |3300  |2   |\n|Jen          |Finance   |3900  |3   |\n|Ramesh       |Finance   |4100  |4   |\n|Kumar        |Marketing |2000  |1   |\n|Jeff         |Marketing |3000  |2   |\n|James        |Sales     |3000  |1   |\n|James        |Sales     |3000  |1   |\n|Robert       |Sales     |4100  |3   |\n|Saif         |Sales     |4100  |3   |\n|Michael      |Sales     |4600  |5   |\n+-------------+----------+------+----+\n\n"
     ]
    }
   ],
   "source": [
    "from pyspark.sql.functions import rank\n",
    "df.withColumn(\"rank\",rank().over(window)).show(truncate=False)"
   ]
  },
  {
   "cell_type": "markdown",
   "metadata": {
    "application/vnd.databricks.v1+cell": {
     "cellMetadata": {},
     "inputWidgets": {},
     "nuid": "bd5b9325-1170-4e17-ae0d-902345a72c46",
     "showTitle": false,
     "title": ""
    }
   },
   "source": [
    "#### 3.dense_rank()"
   ]
  },
  {
   "cell_type": "code",
   "execution_count": 0,
   "metadata": {
    "application/vnd.databricks.v1+cell": {
     "cellMetadata": {
      "byteLimit": 2048000,
      "rowLimit": 10000
     },
     "inputWidgets": {},
     "nuid": "5037cb8b-6328-460f-a16e-97b8686c66ee",
     "showTitle": false,
     "title": ""
    }
   },
   "outputs": [
    {
     "output_type": "stream",
     "name": "stdout",
     "output_type": "stream",
     "text": [
      "+-------------+----------+------+----------+\n|employee_name|department|salary|dense_rank|\n+-------------+----------+------+----------+\n|        Maria|   Finance|  3000|         1|\n|        Scott|   Finance|  3300|         2|\n|          Jen|   Finance|  3900|         3|\n|       Ramesh|   Finance|  4100|         4|\n|        Kumar| Marketing|  2000|         1|\n|         Jeff| Marketing|  3000|         2|\n|        James|     Sales|  3000|         1|\n|        James|     Sales|  3000|         1|\n|       Robert|     Sales|  4100|         2|\n|         Saif|     Sales|  4100|         2|\n|      Michael|     Sales|  4600|         3|\n+-------------+----------+------+----------+\n\n"
     ]
    }
   ],
   "source": [
    "from pyspark.sql.functions import dense_rank\n",
    "df.withColumn(\"dense_rank\",dense_rank().over(window)).show()"
   ]
  },
  {
   "cell_type": "markdown",
   "metadata": {
    "application/vnd.databricks.v1+cell": {
     "cellMetadata": {},
     "inputWidgets": {},
     "nuid": "4052efd3-c2ee-4682-bd7c-33f5511dea36",
     "showTitle": false,
     "title": ""
    }
   },
   "source": [
    "#### 4.percent_rank()"
   ]
  },
  {
   "cell_type": "code",
   "execution_count": 0,
   "metadata": {
    "application/vnd.databricks.v1+cell": {
     "cellMetadata": {
      "byteLimit": 2048000,
      "rowLimit": 10000
     },
     "inputWidgets": {},
     "nuid": "8d2f4353-db8d-48d9-bf90-76cc355a9c8f",
     "showTitle": false,
     "title": ""
    }
   },
   "outputs": [
    {
     "output_type": "stream",
     "name": "stdout",
     "output_type": "stream",
     "text": [
      "+-------------+----------+------+------------------+\n|employee_name|department|salary|      percent_rank|\n+-------------+----------+------+------------------+\n|        Maria|   Finance|  3000|               0.0|\n|        Scott|   Finance|  3300|0.3333333333333333|\n|          Jen|   Finance|  3900|0.6666666666666666|\n|       Ramesh|   Finance|  4100|               1.0|\n|        Kumar| Marketing|  2000|               0.0|\n|         Jeff| Marketing|  3000|               1.0|\n|        James|     Sales|  3000|               0.0|\n|        James|     Sales|  3000|               0.0|\n|       Robert|     Sales|  4100|               0.5|\n|         Saif|     Sales|  4100|               0.5|\n|      Michael|     Sales|  4600|               1.0|\n+-------------+----------+------+------------------+\n\n"
     ]
    }
   ],
   "source": [
    "from pyspark.sql.functions import percent_rank\n",
    "df.withColumn(\"percent_rank\",percent_rank().over(window)).show()"
   ]
  },
  {
   "cell_type": "markdown",
   "metadata": {
    "application/vnd.databricks.v1+cell": {
     "cellMetadata": {},
     "inputWidgets": {},
     "nuid": "d0951b0b-0e28-4907-a352-bb894584d7ed",
     "showTitle": false,
     "title": ""
    }
   },
   "source": [
    "#### 5.ntile()"
   ]
  },
  {
   "cell_type": "code",
   "execution_count": 0,
   "metadata": {
    "application/vnd.databricks.v1+cell": {
     "cellMetadata": {
      "byteLimit": 2048000,
      "rowLimit": 10000
     },
     "inputWidgets": {},
     "nuid": "c855414a-9eed-4c56-a1e3-86dd83820a35",
     "showTitle": false,
     "title": ""
    }
   },
   "outputs": [
    {
     "output_type": "stream",
     "name": "stdout",
     "output_type": "stream",
     "text": [
      "+-------------+----------+------+-----+\n|employee_name|department|salary|ntile|\n+-------------+----------+------+-----+\n|        Maria|   Finance|  3000|    1|\n|        Scott|   Finance|  3300|    1|\n|          Jen|   Finance|  3900|    2|\n|       Ramesh|   Finance|  4100|    3|\n|        Kumar| Marketing|  2000|    1|\n|         Jeff| Marketing|  3000|    2|\n|        James|     Sales|  3000|    1|\n|        James|     Sales|  3000|    1|\n|       Robert|     Sales|  4100|    2|\n|         Saif|     Sales|  4100|    2|\n|      Michael|     Sales|  4600|    3|\n+-------------+----------+------+-----+\n\n"
     ]
    }
   ],
   "source": [
    "from pyspark.sql.functions import ntile\n",
    "df.withColumn(\"ntile\",ntile(3).over(window)).show()"
   ]
  },
  {
   "cell_type": "markdown",
   "metadata": {
    "application/vnd.databricks.v1+cell": {
     "cellMetadata": {},
     "inputWidgets": {},
     "nuid": "64afda22-0054-4b31-9485-542a886d276d",
     "showTitle": false,
     "title": ""
    }
   },
   "source": [
    "### Window analytic functions"
   ]
  },
  {
   "cell_type": "markdown",
   "metadata": {
    "application/vnd.databricks.v1+cell": {
     "cellMetadata": {},
     "inputWidgets": {},
     "nuid": "255038df-a516-42aa-8255-fee5a061ac61",
     "showTitle": false,
     "title": ""
    }
   },
   "source": [
    "#### 1.cume_dist()"
   ]
  },
  {
   "cell_type": "code",
   "execution_count": 0,
   "metadata": {
    "application/vnd.databricks.v1+cell": {
     "cellMetadata": {
      "byteLimit": 2048000,
      "rowLimit": 10000
     },
     "inputWidgets": {},
     "nuid": "af22e633-7a95-4db4-b1ee-cb8d4d9c0a82",
     "showTitle": false,
     "title": ""
    }
   },
   "outputs": [
    {
     "output_type": "stream",
     "name": "stdout",
     "output_type": "stream",
     "text": [
      "+-------------+----------+------+---------+\n|employee_name|department|salary|cume_dist|\n+-------------+----------+------+---------+\n|        Maria|   Finance|  3000|     0.25|\n|        Scott|   Finance|  3300|      0.5|\n|          Jen|   Finance|  3900|     0.75|\n|       Ramesh|   Finance|  4100|      1.0|\n|        Kumar| Marketing|  2000|      0.5|\n|         Jeff| Marketing|  3000|      1.0|\n|        James|     Sales|  3000|      0.4|\n|        James|     Sales|  3000|      0.4|\n|       Robert|     Sales|  4100|      0.8|\n|         Saif|     Sales|  4100|      0.8|\n|      Michael|     Sales|  4600|      1.0|\n+-------------+----------+------+---------+\n\n"
     ]
    }
   ],
   "source": [
    "from pyspark.sql.functions import cume_dist\n",
    "df.withColumn(\"cume_dist\",cume_dist().over(window)).show()"
   ]
  },
  {
   "cell_type": "markdown",
   "metadata": {
    "application/vnd.databricks.v1+cell": {
     "cellMetadata": {},
     "inputWidgets": {},
     "nuid": "8586b600-93f2-4c90-8ddf-4d96b847b8ef",
     "showTitle": false,
     "title": ""
    }
   },
   "source": [
    "#### 2.lag()"
   ]
  },
  {
   "cell_type": "code",
   "execution_count": 0,
   "metadata": {
    "application/vnd.databricks.v1+cell": {
     "cellMetadata": {
      "byteLimit": 2048000,
      "rowLimit": 10000
     },
     "inputWidgets": {},
     "nuid": "768f0ff9-5810-417d-8e16-707ab01773f1",
     "showTitle": false,
     "title": ""
    }
   },
   "outputs": [
    {
     "output_type": "stream",
     "name": "stdout",
     "output_type": "stream",
     "text": [
      "+-------------+----------+------+----+\n|employee_name|department|salary| lag|\n+-------------+----------+------+----+\n|        Maria|   Finance|  3000|null|\n|        Scott|   Finance|  3300|3000|\n|          Jen|   Finance|  3900|3300|\n|       Ramesh|   Finance|  4100|3900|\n|        Kumar| Marketing|  2000|null|\n|         Jeff| Marketing|  3000|2000|\n|        James|     Sales|  3000|null|\n|        James|     Sales|  3000|3000|\n|       Robert|     Sales|  4100|3000|\n|         Saif|     Sales|  4100|4100|\n|      Michael|     Sales|  4600|4100|\n+-------------+----------+------+----+\n\n"
     ]
    }
   ],
   "source": [
    "from pyspark.sql.functions import lag\n",
    "df.withColumn(\"lag\",lag(\"salary\",1).over(window)).show()"
   ]
  },
  {
   "cell_type": "markdown",
   "metadata": {
    "application/vnd.databricks.v1+cell": {
     "cellMetadata": {},
     "inputWidgets": {},
     "nuid": "ba9d6c94-5626-4cac-9c19-a5248b9afd85",
     "showTitle": false,
     "title": ""
    }
   },
   "source": [
    "#### 3.lead()"
   ]
  },
  {
   "cell_type": "code",
   "execution_count": 0,
   "metadata": {
    "application/vnd.databricks.v1+cell": {
     "cellMetadata": {
      "byteLimit": 2048000,
      "rowLimit": 10000
     },
     "inputWidgets": {},
     "nuid": "1e3dc27d-bca0-4410-841d-3459eeea30f9",
     "showTitle": false,
     "title": ""
    }
   },
   "outputs": [
    {
     "output_type": "stream",
     "name": "stdout",
     "output_type": "stream",
     "text": [
      "+-------------+----------+------+----+\n|employee_name|department|salary|lead|\n+-------------+----------+------+----+\n|        Maria|   Finance|  3000|3900|\n|        Scott|   Finance|  3300|4100|\n|          Jen|   Finance|  3900|null|\n|       Ramesh|   Finance|  4100|null|\n|        Kumar| Marketing|  2000|null|\n|         Jeff| Marketing|  3000|null|\n|        James|     Sales|  3000|4100|\n|        James|     Sales|  3000|4100|\n|       Robert|     Sales|  4100|4600|\n|         Saif|     Sales|  4100|null|\n|      Michael|     Sales|  4600|null|\n+-------------+----------+------+----+\n\n"
     ]
    }
   ],
   "source": [
    "from pyspark.sql.functions import lead\n",
    "df.withColumn(\"lead\",lead(\"salary\",2).over(window)).show()"
   ]
  },
  {
   "cell_type": "markdown",
   "metadata": {
    "application/vnd.databricks.v1+cell": {
     "cellMetadata": {},
     "inputWidgets": {},
     "nuid": "1b122ccc-2649-4fc7-8531-3dbd5a1800ff",
     "showTitle": false,
     "title": ""
    }
   },
   "source": [
    "### Window aggregate functions"
   ]
  },
  {
   "cell_type": "code",
   "execution_count": 0,
   "metadata": {
    "application/vnd.databricks.v1+cell": {
     "cellMetadata": {
      "byteLimit": 2048000,
      "rowLimit": 10000
     },
     "inputWidgets": {},
     "nuid": "3a30d48c-86a6-473b-a820-7b75e98b6514",
     "showTitle": false,
     "title": ""
    }
   },
   "outputs": [
    {
     "output_type": "stream",
     "name": "stdout",
     "output_type": "stream",
     "text": [
      "+-------------+----------+------+---+------+----+----+-----+\n|employee_name|department|salary|row|avg   |max |min |sum  |\n+-------------+----------+------+---+------+----+----+-----+\n|Maria        |Finance   |3000  |1  |3575.0|4100|3000|14300|\n|Scott        |Finance   |3300  |2  |3575.0|4100|3000|14300|\n|Jen          |Finance   |3900  |3  |3575.0|4100|3000|14300|\n|Ramesh       |Finance   |4100  |4  |3575.0|4100|3000|14300|\n|Kumar        |Marketing |2000  |1  |2500.0|3000|2000|5000 |\n|Jeff         |Marketing |3000  |2  |2500.0|3000|2000|5000 |\n|James        |Sales     |3000  |1  |3760.0|4600|3000|18800|\n|James        |Sales     |3000  |2  |3760.0|4600|3000|18800|\n|Robert       |Sales     |4100  |3  |3760.0|4600|3000|18800|\n|Saif         |Sales     |4100  |4  |3760.0|4600|3000|18800|\n|Michael      |Sales     |4600  |5  |3760.0|4600|3000|18800|\n+-------------+----------+------+---+------+----+----+-----+\n\n"
     ]
    }
   ],
   "source": [
    "from pyspark.sql.functions import row_number,col,avg,max,sum,min\n",
    "window2=Window.partitionBy(\"department\")\n",
    "df.withColumn(\"row\",row_number().over(window))\\\n",
    "    .withColumn(\"avg\",avg(col(\"salary\")).over(window2))\\\n",
    "        .withColumn(\"max\",max(col(\"salary\")).over(window2))\\\n",
    "            .withColumn(\"min\",min(col(\"salary\")).over(window2))\\\n",
    "                .withColumn(\"sum\",sum(col(\"salary\")).over(window2)).show(truncate=False)\n"
   ]
  },
  {
   "cell_type": "code",
   "execution_count": 0,
   "metadata": {
    "application/vnd.databricks.v1+cell": {
     "cellMetadata": {},
     "inputWidgets": {},
     "nuid": "9c2cfb39-c775-4bd5-a3be-bfdb30b2243b",
     "showTitle": false,
     "title": ""
    }
   },
   "outputs": [],
   "source": []
  }
 ],
 "metadata": {
  "application/vnd.databricks.v1+notebook": {
   "dashboards": [],
   "environmentMetadata": null,
   "language": "python",
   "notebookMetadata": {
    "pythonIndentUnit": 4
   },
   "notebookName": "Window functions",
   "widgets": {}
  }
 },
 "nbformat": 4,
 "nbformat_minor": 0
}
