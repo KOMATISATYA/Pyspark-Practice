{
 "cells": [
  {
   "cell_type": "code",
   "execution_count": 0,
   "metadata": {
    "application/vnd.databricks.v1+cell": {
     "cellMetadata": {
      "byteLimit": 2048000,
      "rowLimit": 10000
     },
     "inputWidgets": {},
     "nuid": "472b7ee0-0aa9-4eb6-8914-38a3a41b07d0",
     "showTitle": false,
     "title": ""
    }
   },
   "outputs": [],
   "source": [
    "from pyspark.sql.types import StructType, StructField, IntegerType, StringType\n",
    "import pyspark.sql.functions as func"
   ]
  },
  {
   "cell_type": "code",
   "execution_count": 0,
   "metadata": {
    "application/vnd.databricks.v1+cell": {
     "cellMetadata": {
      "byteLimit": 2048000,
      "rowLimit": 10000
     },
     "inputWidgets": {},
     "nuid": "2889876e-d216-477c-aefc-ff173d179cc0",
     "showTitle": false,
     "title": ""
    }
   },
   "outputs": [],
   "source": [
    "#Defining schema\n",
    "schema1=StructType([\n",
    "    StructField('userId',IntegerType(),True),\n",
    "    StructField('name',StringType(),True),\n",
    "    StructField('age',IntegerType(),True),\n",
    "    StructField('friends',IntegerType(),True)\n",
    "])"
   ]
  },
  {
   "cell_type": "code",
   "execution_count": 0,
   "metadata": {
    "application/vnd.databricks.v1+cell": {
     "cellMetadata": {
      "byteLimit": 2048000,
      "rowLimit": 10000
     },
     "inputWidgets": {},
     "nuid": "fbae416b-040e-45b2-9fb0-a577d6f943ea",
     "showTitle": false,
     "title": ""
    }
   },
   "outputs": [],
   "source": [
    "#Creating dataframe\n",
    "people=spark.read.format('csv').schema(schema1).option('path','dbfs:/FileStore/shared_uploads/komatisatya1729@gmail.com/fakefriends__1_.csv').load()"
   ]
  },
  {
   "cell_type": "code",
   "execution_count": 0,
   "metadata": {
    "application/vnd.databricks.v1+cell": {
     "cellMetadata": {
      "byteLimit": 2048000,
      "rowLimit": 10000
     },
     "inputWidgets": {},
     "nuid": "3e9e80e8-0a67-4470-a10c-b66ea46dabe9",
     "showTitle": false,
     "title": ""
    }
   },
   "outputs": [],
   "source": [
    "#performing all transformations\n",
    "output=people.select(people.userId,\n",
    "                     people.name,\n",
    "                     people.age,\n",
    "                     people.friends)\\\n",
    "                     .where(people.age<30)\\\n",
    "                     .withColumn('insert_ts',func.current_timestamp())\\\n",
    "                     .orderBy(people.userId)"
   ]
  },
  {
   "cell_type": "code",
   "execution_count": 0,
   "metadata": {
    "application/vnd.databricks.v1+cell": {
     "cellMetadata": {
      "byteLimit": 2048000,
      "rowLimit": 10000
     },
     "inputWidgets": {},
     "nuid": "c83ddd05-082b-42b4-b391-de67d444cb9d",
     "showTitle": false,
     "title": ""
    }
   },
   "outputs": [
    {
     "output_type": "stream",
     "name": "stdout",
     "output_type": "stream",
     "text": [
      "Out[22]: 112"
     ]
    }
   ],
   "source": [
    "output.count()"
   ]
  },
  {
   "cell_type": "code",
   "execution_count": 0,
   "metadata": {
    "application/vnd.databricks.v1+cell": {
     "cellMetadata": {
      "byteLimit": 2048000,
      "rowLimit": 10000
     },
     "inputWidgets": {},
     "nuid": "792e0c31-2a9a-4e8a-a35b-edfe62dd05f9",
     "showTitle": false,
     "title": ""
    }
   },
   "outputs": [],
   "source": [
    "output.createOrReplaceTempView(\"peoples\")"
   ]
  },
  {
   "cell_type": "code",
   "execution_count": 0,
   "metadata": {
    "application/vnd.databricks.v1+cell": {
     "cellMetadata": {
      "byteLimit": 2048000,
      "rowLimit": 10000
     },
     "inputWidgets": {},
     "nuid": "32dc9c09-5d89-4a78-8ab1-b169f99a9156",
     "showTitle": false,
     "title": ""
    }
   },
   "outputs": [
    {
     "output_type": "display_data",
     "data": {
      "text/html": [
       "<style scoped>\n",
       "  .table-result-container {\n",
       "    max-height: 300px;\n",
       "    overflow: auto;\n",
       "  }\n",
       "  table, th, td {\n",
       "    border: 1px solid black;\n",
       "    border-collapse: collapse;\n",
       "  }\n",
       "  th, td {\n",
       "    padding: 5px;\n",
       "  }\n",
       "  th {\n",
       "    text-align: left;\n",
       "  }\n",
       "</style><div class='table-result-container'><table class='table-result'><thead style='background-color: white'><tr><th>userId</th><th>name</th><th>age</th><th>friends</th><th>insert_ts</th></tr></thead><tbody><tr><td>1</td><td>Jean-Luc</td><td>26</td><td>2</td><td>2024-03-06T09:12:20.547+0000</td></tr><tr><td>9</td><td>Hugh</td><td>27</td><td>181</td><td>2024-03-06T09:12:20.547+0000</td></tr><tr><td>16</td><td>Weyoun</td><td>22</td><td>323</td><td>2024-03-06T09:12:20.547+0000</td></tr><tr><td>21</td><td>Miles</td><td>19</td><td>268</td><td>2024-03-06T09:12:20.547+0000</td></tr><tr><td>24</td><td>Julian</td><td>25</td><td>1</td><td>2024-03-06T09:12:20.547+0000</td></tr><tr><td>25</td><td>Ben</td><td>21</td><td>445</td><td>2024-03-06T09:12:20.547+0000</td></tr><tr><td>26</td><td>Julian</td><td>22</td><td>100</td><td>2024-03-06T09:12:20.547+0000</td></tr><tr><td>32</td><td>Nog</td><td>26</td><td>281</td><td>2024-03-06T09:12:20.547+0000</td></tr><tr><td>35</td><td>Beverly</td><td>27</td><td>305</td><td>2024-03-06T09:12:20.547+0000</td></tr><tr><td>46</td><td>Morn</td><td>25</td><td>96</td><td>2024-03-06T09:12:20.547+0000</td></tr><tr><td>47</td><td>Brunt</td><td>24</td><td>49</td><td>2024-03-06T09:12:20.547+0000</td></tr><tr><td>48</td><td>Nog</td><td>20</td><td>1</td><td>2024-03-06T09:12:20.547+0000</td></tr><tr><td>52</td><td>Beverly</td><td>19</td><td>269</td><td>2024-03-06T09:12:20.547+0000</td></tr><tr><td>54</td><td>Brunt</td><td>19</td><td>5</td><td>2024-03-06T09:12:20.547+0000</td></tr><tr><td>60</td><td>Geordi</td><td>20</td><td>100</td><td>2024-03-06T09:12:20.547+0000</td></tr><tr><td>66</td><td>Geordi</td><td>21</td><td>477</td><td>2024-03-06T09:12:20.547+0000</td></tr><tr><td>72</td><td>Kasidy</td><td>22</td><td>179</td><td>2024-03-06T09:12:20.547+0000</td></tr><tr><td>73</td><td>Brunt</td><td>20</td><td>384</td><td>2024-03-06T09:12:20.547+0000</td></tr><tr><td>84</td><td>Ben</td><td>28</td><td>311</td><td>2024-03-06T09:12:20.547+0000</td></tr><tr><td>89</td><td>Worf</td><td>24</td><td>492</td><td>2024-03-06T09:12:20.547+0000</td></tr><tr><td>95</td><td>Odo</td><td>29</td><td>173</td><td>2024-03-06T09:12:20.547+0000</td></tr><tr><td>96</td><td>Ezri</td><td>25</td><td>233</td><td>2024-03-06T09:12:20.547+0000</td></tr><tr><td>106</td><td>Beverly</td><td>18</td><td>499</td><td>2024-03-06T09:12:20.547+0000</td></tr><tr><td>108</td><td>Leeta</td><td>25</td><td>274</td><td>2024-03-06T09:12:20.547+0000</td></tr><tr><td>112</td><td>Morn</td><td>25</td><td>13</td><td>2024-03-06T09:12:20.547+0000</td></tr><tr><td>115</td><td>Dukat</td><td>18</td><td>397</td><td>2024-03-06T09:12:20.547+0000</td></tr><tr><td>118</td><td>Ben</td><td>28</td><td>304</td><td>2024-03-06T09:12:20.547+0000</td></tr><tr><td>119</td><td>Worf</td><td>29</td><td>344</td><td>2024-03-06T09:12:20.547+0000</td></tr><tr><td>126</td><td>Brunt</td><td>26</td><td>84</td><td>2024-03-06T09:12:20.547+0000</td></tr><tr><td>133</td><td>Quark</td><td>19</td><td>265</td><td>2024-03-06T09:12:20.547+0000</td></tr><tr><td>136</td><td>Will</td><td>19</td><td>335</td><td>2024-03-06T09:12:20.547+0000</td></tr><tr><td>137</td><td>Martok</td><td>28</td><td>32</td><td>2024-03-06T09:12:20.547+0000</td></tr><tr><td>144</td><td>Miles</td><td>22</td><td>93</td><td>2024-03-06T09:12:20.547+0000</td></tr><tr><td>165</td><td>Leeta</td><td>26</td><td>282</td><td>2024-03-06T09:12:20.547+0000</td></tr><tr><td>166</td><td>Lwaxana</td><td>25</td><td>10</td><td>2024-03-06T09:12:20.547+0000</td></tr><tr><td>171</td><td>Weyoun</td><td>29</td><td>126</td><td>2024-03-06T09:12:20.547+0000</td></tr><tr><td>173</td><td>Leeta</td><td>23</td><td>129</td><td>2024-03-06T09:12:20.547+0000</td></tr><tr><td>178</td><td>Kasidy</td><td>26</td><td>381</td><td>2024-03-06T09:12:20.547+0000</td></tr><tr><td>182</td><td>Weyoun</td><td>26</td><td>145</td><td>2024-03-06T09:12:20.547+0000</td></tr><tr><td>200</td><td>Kasidy</td><td>21</td><td>472</td><td>2024-03-06T09:12:20.547+0000</td></tr><tr><td>201</td><td>Ezri</td><td>23</td><td>174</td><td>2024-03-06T09:12:20.547+0000</td></tr><tr><td>206</td><td>Will</td><td>21</td><td>491</td><td>2024-03-06T09:12:20.547+0000</td></tr><tr><td>209</td><td>Brunt</td><td>27</td><td>174</td><td>2024-03-06T09:12:20.547+0000</td></tr><tr><td>213</td><td>Worf</td><td>28</td><td>312</td><td>2024-03-06T09:12:20.547+0000</td></tr><tr><td>215</td><td>Will</td><td>22</td><td>6</td><td>2024-03-06T09:12:20.547+0000</td></tr><tr><td>217</td><td>Keiko</td><td>29</td><td>260</td><td>2024-03-06T09:12:20.547+0000</td></tr><tr><td>219</td><td>Lwaxana</td><td>26</td><td>345</td><td>2024-03-06T09:12:20.547+0000</td></tr><tr><td>221</td><td>Dukat</td><td>27</td><td>150</td><td>2024-03-06T09:12:20.547+0000</td></tr><tr><td>225</td><td>Elim</td><td>19</td><td>106</td><td>2024-03-06T09:12:20.547+0000</td></tr><tr><td>228</td><td>Martok</td><td>26</td><td>293</td><td>2024-03-06T09:12:20.547+0000</td></tr><tr><td>229</td><td>Gowron</td><td>24</td><td>150</td><td>2024-03-06T09:12:20.547+0000</td></tr><tr><td>238</td><td>Deanna</td><td>25</td><td>305</td><td>2024-03-06T09:12:20.547+0000</td></tr><tr><td>242</td><td>Data</td><td>25</td><td>101</td><td>2024-03-06T09:12:20.547+0000</td></tr><tr><td>244</td><td>Dukat</td><td>21</td><td>471</td><td>2024-03-06T09:12:20.547+0000</td></tr><tr><td>245</td><td>Jean-Luc</td><td>28</td><td>174</td><td>2024-03-06T09:12:20.547+0000</td></tr><tr><td>248</td><td>Dukat</td><td>21</td><td>138</td><td>2024-03-06T09:12:20.547+0000</td></tr><tr><td>259</td><td>Kasidy</td><td>29</td><td>11</td><td>2024-03-06T09:12:20.547+0000</td></tr><tr><td>264</td><td>Julian</td><td>29</td><td>228</td><td>2024-03-06T09:12:20.547+0000</td></tr><tr><td>265</td><td>Gowron</td><td>27</td><td>471</td><td>2024-03-06T09:12:20.547+0000</td></tr><tr><td>268</td><td>Ezri</td><td>26</td><td>298</td><td>2024-03-06T09:12:20.547+0000</td></tr><tr><td>271</td><td>Morn</td><td>25</td><td>446</td><td>2024-03-06T09:12:20.547+0000</td></tr><tr><td>272</td><td>Quark</td><td>29</td><td>367</td><td>2024-03-06T09:12:20.547+0000</td></tr><tr><td>279</td><td>Beverly</td><td>23</td><td>133</td><td>2024-03-06T09:12:20.547+0000</td></tr><tr><td>280</td><td>Nerys</td><td>26</td><td>492</td><td>2024-03-06T09:12:20.547+0000</td></tr><tr><td>281</td><td>Worf</td><td>21</td><td>89</td><td>2024-03-06T09:12:20.547+0000</td></tr><tr><td>284</td><td>Nog</td><td>26</td><td>269</td><td>2024-03-06T09:12:20.547+0000</td></tr><tr><td>291</td><td>Dukat</td><td>23</td><td>373</td><td>2024-03-06T09:12:20.547+0000</td></tr><tr><td>293</td><td>Deanna</td><td>23</td><td>65</td><td>2024-03-06T09:12:20.547+0000</td></tr><tr><td>301</td><td>Weyoun</td><td>28</td><td>108</td><td>2024-03-06T09:12:20.547+0000</td></tr><tr><td>304</td><td>Will</td><td>19</td><td>404</td><td>2024-03-06T09:12:20.547+0000</td></tr><tr><td>305</td><td>Quark</td><td>29</td><td>182</td><td>2024-03-06T09:12:20.547+0000</td></tr><tr><td>306</td><td>Beverly</td><td>23</td><td>323</td><td>2024-03-06T09:12:20.547+0000</td></tr><tr><td>315</td><td>Weyoun</td><td>25</td><td>208</td><td>2024-03-06T09:12:20.547+0000</td></tr><tr><td>323</td><td>Nog</td><td>29</td><td>236</td><td>2024-03-06T09:12:20.547+0000</td></tr><tr><td>327</td><td>Julian</td><td>20</td><td>63</td><td>2024-03-06T09:12:20.547+0000</td></tr><tr><td>333</td><td>Ben</td><td>29</td><td>207</td><td>2024-03-06T09:12:20.547+0000</td></tr><tr><td>335</td><td>Odo</td><td>27</td><td>337</td><td>2024-03-06T09:12:20.547+0000</td></tr><tr><td>338</td><td>Will</td><td>28</td><td>180</td><td>2024-03-06T09:12:20.547+0000</td></tr><tr><td>341</td><td>Data</td><td>18</td><td>326</td><td>2024-03-06T09:12:20.547+0000</td></tr><tr><td>343</td><td>Odo</td><td>26</td><td>254</td><td>2024-03-06T09:12:20.547+0000</td></tr><tr><td>346</td><td>Hugh</td><td>29</td><td>329</td><td>2024-03-06T09:12:20.547+0000</td></tr><tr><td>349</td><td>Kasidy</td><td>20</td><td>277</td><td>2024-03-06T09:12:20.547+0000</td></tr><tr><td>352</td><td>Deanna</td><td>27</td><td>53</td><td>2024-03-06T09:12:20.547+0000</td></tr><tr><td>357</td><td>Brunt</td><td>26</td><td>7</td><td>2024-03-06T09:12:20.547+0000</td></tr><tr><td>366</td><td>Keiko</td><td>19</td><td>119</td><td>2024-03-06T09:12:20.547+0000</td></tr><tr><td>368</td><td>Elim</td><td>26</td><td>383</td><td>2024-03-06T09:12:20.547+0000</td></tr><tr><td>373</td><td>Quark</td><td>19</td><td>272</td><td>2024-03-06T09:12:20.547+0000</td></tr><tr><td>376</td><td>Gowron</td><td>23</td><td>392</td><td>2024-03-06T09:12:20.547+0000</td></tr><tr><td>377</td><td>Beverly</td><td>18</td><td>418</td><td>2024-03-06T09:12:20.547+0000</td></tr><tr><td>390</td><td>Martok</td><td>22</td><td>266</td><td>2024-03-06T09:12:20.547+0000</td></tr><tr><td>394</td><td>Keiko</td><td>23</td><td>230</td><td>2024-03-06T09:12:20.547+0000</td></tr><tr><td>398</td><td>Lwaxana</td><td>26</td><td>124</td><td>2024-03-06T09:12:20.547+0000</td></tr><tr><td>399</td><td>Beverly</td><td>24</td><td>401</td><td>2024-03-06T09:12:20.547+0000</td></tr><tr><td>400</td><td>Data</td><td>29</td><td>128</td><td>2024-03-06T09:12:20.547+0000</td></tr><tr><td>403</td><td>Weyoun</td><td>21</td><td>224</td><td>2024-03-06T09:12:20.547+0000</td></tr><tr><td>404</td><td>Kasidy</td><td>18</td><td>24</td><td>2024-03-06T09:12:20.547+0000</td></tr><tr><td>409</td><td>Nog</td><td>19</td><td>267</td><td>2024-03-06T09:12:20.547+0000</td></tr><tr><td>420</td><td>Jadzia</td><td>26</td><td>391</td><td>2024-03-06T09:12:20.547+0000</td></tr><tr><td>426</td><td>Worf</td><td>24</td><td>77</td><td>2024-03-06T09:12:20.547+0000</td></tr><tr><td>427</td><td>Brunt</td><td>28</td><td>258</td><td>2024-03-06T09:12:20.547+0000</td></tr><tr><td>439</td><td>Data</td><td>18</td><td>417</td><td>2024-03-06T09:12:20.547+0000</td></tr><tr><td>444</td><td>Keiko</td><td>18</td><td>472</td><td>2024-03-06T09:12:20.547+0000</td></tr><tr><td>451</td><td>Martok</td><td>28</td><td>34</td><td>2024-03-06T09:12:20.547+0000</td></tr><tr><td>459</td><td>Geordi</td><td>26</td><td>84</td><td>2024-03-06T09:12:20.547+0000</td></tr><tr><td>462</td><td>Nerys</td><td>23</td><td>287</td><td>2024-03-06T09:12:20.547+0000</td></tr><tr><td>464</td><td>Beverly</td><td>25</td><td>485</td><td>2024-03-06T09:12:20.547+0000</td></tr><tr><td>472</td><td>Nog</td><td>27</td><td>154</td><td>2024-03-06T09:12:20.547+0000</td></tr><tr><td>476</td><td>Jean-Luc</td><td>28</td><td>378</td><td>2024-03-06T09:12:20.547+0000</td></tr><tr><td>484</td><td>Leeta</td><td>22</td><td>478</td><td>2024-03-06T09:12:20.547+0000</td></tr><tr><td>492</td><td>Dukat</td><td>19</td><td>36</td><td>2024-03-06T09:12:20.547+0000</td></tr><tr><td>493</td><td>Hugh</td><td>23</td><td>357</td><td>2024-03-06T09:12:20.547+0000</td></tr><tr><td>494</td><td>Kasidy</td><td>18</td><td>194</td><td>2024-03-06T09:12:20.547+0000</td></tr></tbody></table></div>"
      ]
     },
     "metadata": {
      "application/vnd.databricks.v1+output": {
       "addedWidgets": {},
       "aggData": [],
       "aggError": "",
       "aggOverflow": false,
       "aggSchema": [],
       "aggSeriesLimitReached": false,
       "aggType": "",
       "arguments": {},
       "columnCustomDisplayInfos": {},
       "data": [
        [
         1,
         "Jean-Luc",
         26,
         2,
         "2024-03-06T09:12:20.547+0000"
        ],
        [
         9,
         "Hugh",
         27,
         181,
         "2024-03-06T09:12:20.547+0000"
        ],
        [
         16,
         "Weyoun",
         22,
         323,
         "2024-03-06T09:12:20.547+0000"
        ],
        [
         21,
         "Miles",
         19,
         268,
         "2024-03-06T09:12:20.547+0000"
        ],
        [
         24,
         "Julian",
         25,
         1,
         "2024-03-06T09:12:20.547+0000"
        ],
        [
         25,
         "Ben",
         21,
         445,
         "2024-03-06T09:12:20.547+0000"
        ],
        [
         26,
         "Julian",
         22,
         100,
         "2024-03-06T09:12:20.547+0000"
        ],
        [
         32,
         "Nog",
         26,
         281,
         "2024-03-06T09:12:20.547+0000"
        ],
        [
         35,
         "Beverly",
         27,
         305,
         "2024-03-06T09:12:20.547+0000"
        ],
        [
         46,
         "Morn",
         25,
         96,
         "2024-03-06T09:12:20.547+0000"
        ],
        [
         47,
         "Brunt",
         24,
         49,
         "2024-03-06T09:12:20.547+0000"
        ],
        [
         48,
         "Nog",
         20,
         1,
         "2024-03-06T09:12:20.547+0000"
        ],
        [
         52,
         "Beverly",
         19,
         269,
         "2024-03-06T09:12:20.547+0000"
        ],
        [
         54,
         "Brunt",
         19,
         5,
         "2024-03-06T09:12:20.547+0000"
        ],
        [
         60,
         "Geordi",
         20,
         100,
         "2024-03-06T09:12:20.547+0000"
        ],
        [
         66,
         "Geordi",
         21,
         477,
         "2024-03-06T09:12:20.547+0000"
        ],
        [
         72,
         "Kasidy",
         22,
         179,
         "2024-03-06T09:12:20.547+0000"
        ],
        [
         73,
         "Brunt",
         20,
         384,
         "2024-03-06T09:12:20.547+0000"
        ],
        [
         84,
         "Ben",
         28,
         311,
         "2024-03-06T09:12:20.547+0000"
        ],
        [
         89,
         "Worf",
         24,
         492,
         "2024-03-06T09:12:20.547+0000"
        ],
        [
         95,
         "Odo",
         29,
         173,
         "2024-03-06T09:12:20.547+0000"
        ],
        [
         96,
         "Ezri",
         25,
         233,
         "2024-03-06T09:12:20.547+0000"
        ],
        [
         106,
         "Beverly",
         18,
         499,
         "2024-03-06T09:12:20.547+0000"
        ],
        [
         108,
         "Leeta",
         25,
         274,
         "2024-03-06T09:12:20.547+0000"
        ],
        [
         112,
         "Morn",
         25,
         13,
         "2024-03-06T09:12:20.547+0000"
        ],
        [
         115,
         "Dukat",
         18,
         397,
         "2024-03-06T09:12:20.547+0000"
        ],
        [
         118,
         "Ben",
         28,
         304,
         "2024-03-06T09:12:20.547+0000"
        ],
        [
         119,
         "Worf",
         29,
         344,
         "2024-03-06T09:12:20.547+0000"
        ],
        [
         126,
         "Brunt",
         26,
         84,
         "2024-03-06T09:12:20.547+0000"
        ],
        [
         133,
         "Quark",
         19,
         265,
         "2024-03-06T09:12:20.547+0000"
        ],
        [
         136,
         "Will",
         19,
         335,
         "2024-03-06T09:12:20.547+0000"
        ],
        [
         137,
         "Martok",
         28,
         32,
         "2024-03-06T09:12:20.547+0000"
        ],
        [
         144,
         "Miles",
         22,
         93,
         "2024-03-06T09:12:20.547+0000"
        ],
        [
         165,
         "Leeta",
         26,
         282,
         "2024-03-06T09:12:20.547+0000"
        ],
        [
         166,
         "Lwaxana",
         25,
         10,
         "2024-03-06T09:12:20.547+0000"
        ],
        [
         171,
         "Weyoun",
         29,
         126,
         "2024-03-06T09:12:20.547+0000"
        ],
        [
         173,
         "Leeta",
         23,
         129,
         "2024-03-06T09:12:20.547+0000"
        ],
        [
         178,
         "Kasidy",
         26,
         381,
         "2024-03-06T09:12:20.547+0000"
        ],
        [
         182,
         "Weyoun",
         26,
         145,
         "2024-03-06T09:12:20.547+0000"
        ],
        [
         200,
         "Kasidy",
         21,
         472,
         "2024-03-06T09:12:20.547+0000"
        ],
        [
         201,
         "Ezri",
         23,
         174,
         "2024-03-06T09:12:20.547+0000"
        ],
        [
         206,
         "Will",
         21,
         491,
         "2024-03-06T09:12:20.547+0000"
        ],
        [
         209,
         "Brunt",
         27,
         174,
         "2024-03-06T09:12:20.547+0000"
        ],
        [
         213,
         "Worf",
         28,
         312,
         "2024-03-06T09:12:20.547+0000"
        ],
        [
         215,
         "Will",
         22,
         6,
         "2024-03-06T09:12:20.547+0000"
        ],
        [
         217,
         "Keiko",
         29,
         260,
         "2024-03-06T09:12:20.547+0000"
        ],
        [
         219,
         "Lwaxana",
         26,
         345,
         "2024-03-06T09:12:20.547+0000"
        ],
        [
         221,
         "Dukat",
         27,
         150,
         "2024-03-06T09:12:20.547+0000"
        ],
        [
         225,
         "Elim",
         19,
         106,
         "2024-03-06T09:12:20.547+0000"
        ],
        [
         228,
         "Martok",
         26,
         293,
         "2024-03-06T09:12:20.547+0000"
        ],
        [
         229,
         "Gowron",
         24,
         150,
         "2024-03-06T09:12:20.547+0000"
        ],
        [
         238,
         "Deanna",
         25,
         305,
         "2024-03-06T09:12:20.547+0000"
        ],
        [
         242,
         "Data",
         25,
         101,
         "2024-03-06T09:12:20.547+0000"
        ],
        [
         244,
         "Dukat",
         21,
         471,
         "2024-03-06T09:12:20.547+0000"
        ],
        [
         245,
         "Jean-Luc",
         28,
         174,
         "2024-03-06T09:12:20.547+0000"
        ],
        [
         248,
         "Dukat",
         21,
         138,
         "2024-03-06T09:12:20.547+0000"
        ],
        [
         259,
         "Kasidy",
         29,
         11,
         "2024-03-06T09:12:20.547+0000"
        ],
        [
         264,
         "Julian",
         29,
         228,
         "2024-03-06T09:12:20.547+0000"
        ],
        [
         265,
         "Gowron",
         27,
         471,
         "2024-03-06T09:12:20.547+0000"
        ],
        [
         268,
         "Ezri",
         26,
         298,
         "2024-03-06T09:12:20.547+0000"
        ],
        [
         271,
         "Morn",
         25,
         446,
         "2024-03-06T09:12:20.547+0000"
        ],
        [
         272,
         "Quark",
         29,
         367,
         "2024-03-06T09:12:20.547+0000"
        ],
        [
         279,
         "Beverly",
         23,
         133,
         "2024-03-06T09:12:20.547+0000"
        ],
        [
         280,
         "Nerys",
         26,
         492,
         "2024-03-06T09:12:20.547+0000"
        ],
        [
         281,
         "Worf",
         21,
         89,
         "2024-03-06T09:12:20.547+0000"
        ],
        [
         284,
         "Nog",
         26,
         269,
         "2024-03-06T09:12:20.547+0000"
        ],
        [
         291,
         "Dukat",
         23,
         373,
         "2024-03-06T09:12:20.547+0000"
        ],
        [
         293,
         "Deanna",
         23,
         65,
         "2024-03-06T09:12:20.547+0000"
        ],
        [
         301,
         "Weyoun",
         28,
         108,
         "2024-03-06T09:12:20.547+0000"
        ],
        [
         304,
         "Will",
         19,
         404,
         "2024-03-06T09:12:20.547+0000"
        ],
        [
         305,
         "Quark",
         29,
         182,
         "2024-03-06T09:12:20.547+0000"
        ],
        [
         306,
         "Beverly",
         23,
         323,
         "2024-03-06T09:12:20.547+0000"
        ],
        [
         315,
         "Weyoun",
         25,
         208,
         "2024-03-06T09:12:20.547+0000"
        ],
        [
         323,
         "Nog",
         29,
         236,
         "2024-03-06T09:12:20.547+0000"
        ],
        [
         327,
         "Julian",
         20,
         63,
         "2024-03-06T09:12:20.547+0000"
        ],
        [
         333,
         "Ben",
         29,
         207,
         "2024-03-06T09:12:20.547+0000"
        ],
        [
         335,
         "Odo",
         27,
         337,
         "2024-03-06T09:12:20.547+0000"
        ],
        [
         338,
         "Will",
         28,
         180,
         "2024-03-06T09:12:20.547+0000"
        ],
        [
         341,
         "Data",
         18,
         326,
         "2024-03-06T09:12:20.547+0000"
        ],
        [
         343,
         "Odo",
         26,
         254,
         "2024-03-06T09:12:20.547+0000"
        ],
        [
         346,
         "Hugh",
         29,
         329,
         "2024-03-06T09:12:20.547+0000"
        ],
        [
         349,
         "Kasidy",
         20,
         277,
         "2024-03-06T09:12:20.547+0000"
        ],
        [
         352,
         "Deanna",
         27,
         53,
         "2024-03-06T09:12:20.547+0000"
        ],
        [
         357,
         "Brunt",
         26,
         7,
         "2024-03-06T09:12:20.547+0000"
        ],
        [
         366,
         "Keiko",
         19,
         119,
         "2024-03-06T09:12:20.547+0000"
        ],
        [
         368,
         "Elim",
         26,
         383,
         "2024-03-06T09:12:20.547+0000"
        ],
        [
         373,
         "Quark",
         19,
         272,
         "2024-03-06T09:12:20.547+0000"
        ],
        [
         376,
         "Gowron",
         23,
         392,
         "2024-03-06T09:12:20.547+0000"
        ],
        [
         377,
         "Beverly",
         18,
         418,
         "2024-03-06T09:12:20.547+0000"
        ],
        [
         390,
         "Martok",
         22,
         266,
         "2024-03-06T09:12:20.547+0000"
        ],
        [
         394,
         "Keiko",
         23,
         230,
         "2024-03-06T09:12:20.547+0000"
        ],
        [
         398,
         "Lwaxana",
         26,
         124,
         "2024-03-06T09:12:20.547+0000"
        ],
        [
         399,
         "Beverly",
         24,
         401,
         "2024-03-06T09:12:20.547+0000"
        ],
        [
         400,
         "Data",
         29,
         128,
         "2024-03-06T09:12:20.547+0000"
        ],
        [
         403,
         "Weyoun",
         21,
         224,
         "2024-03-06T09:12:20.547+0000"
        ],
        [
         404,
         "Kasidy",
         18,
         24,
         "2024-03-06T09:12:20.547+0000"
        ],
        [
         409,
         "Nog",
         19,
         267,
         "2024-03-06T09:12:20.547+0000"
        ],
        [
         420,
         "Jadzia",
         26,
         391,
         "2024-03-06T09:12:20.547+0000"
        ],
        [
         426,
         "Worf",
         24,
         77,
         "2024-03-06T09:12:20.547+0000"
        ],
        [
         427,
         "Brunt",
         28,
         258,
         "2024-03-06T09:12:20.547+0000"
        ],
        [
         439,
         "Data",
         18,
         417,
         "2024-03-06T09:12:20.547+0000"
        ],
        [
         444,
         "Keiko",
         18,
         472,
         "2024-03-06T09:12:20.547+0000"
        ],
        [
         451,
         "Martok",
         28,
         34,
         "2024-03-06T09:12:20.547+0000"
        ],
        [
         459,
         "Geordi",
         26,
         84,
         "2024-03-06T09:12:20.547+0000"
        ],
        [
         462,
         "Nerys",
         23,
         287,
         "2024-03-06T09:12:20.547+0000"
        ],
        [
         464,
         "Beverly",
         25,
         485,
         "2024-03-06T09:12:20.547+0000"
        ],
        [
         472,
         "Nog",
         27,
         154,
         "2024-03-06T09:12:20.547+0000"
        ],
        [
         476,
         "Jean-Luc",
         28,
         378,
         "2024-03-06T09:12:20.547+0000"
        ],
        [
         484,
         "Leeta",
         22,
         478,
         "2024-03-06T09:12:20.547+0000"
        ],
        [
         492,
         "Dukat",
         19,
         36,
         "2024-03-06T09:12:20.547+0000"
        ],
        [
         493,
         "Hugh",
         23,
         357,
         "2024-03-06T09:12:20.547+0000"
        ],
        [
         494,
         "Kasidy",
         18,
         194,
         "2024-03-06T09:12:20.547+0000"
        ]
       ],
       "datasetInfos": [],
       "dbfsResultPath": null,
       "isJsonSchema": true,
       "metadata": {},
       "overflow": false,
       "plotOptions": {
        "customPlotOptions": {},
        "displayType": "table",
        "pivotAggregation": null,
        "pivotColumns": null,
        "xColumns": null,
        "yColumns": null
       },
       "removedWidgets": [],
       "schema": [
        {
         "metadata": "{}",
         "name": "userId",
         "type": "\"integer\""
        },
        {
         "metadata": "{}",
         "name": "name",
         "type": "\"string\""
        },
        {
         "metadata": "{}",
         "name": "age",
         "type": "\"integer\""
        },
        {
         "metadata": "{}",
         "name": "friends",
         "type": "\"integer\""
        },
        {
         "metadata": "{}",
         "name": "insert_ts",
         "type": "\"timestamp\""
        }
       ],
       "type": "table"
      }
     },
     "output_type": "display_data"
    }
   ],
   "source": [
    "spark.sql(\"SELECT * from peoples\").display()"
   ]
  },
  {
   "cell_type": "code",
   "execution_count": 0,
   "metadata": {
    "application/vnd.databricks.v1+cell": {
     "cellMetadata": {},
     "inputWidgets": {},
     "nuid": "8f246496-1ec5-4ddc-aaea-b837649d22da",
     "showTitle": false,
     "title": ""
    }
   },
   "outputs": [],
   "source": []
  }
 ],
 "metadata": {
  "application/vnd.databricks.v1+notebook": {
   "dashboards": [],
   "environmentMetadata": null,
   "language": "python",
   "notebookMetadata": {
    "pythonIndentUnit": 4
   },
   "notebookName": "Example2 2024-03-06 14:18:40",
   "widgets": {}
  }
 },
 "nbformat": 4,
 "nbformat_minor": 0
}
